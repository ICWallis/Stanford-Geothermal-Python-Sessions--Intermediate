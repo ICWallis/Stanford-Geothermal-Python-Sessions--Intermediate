{
 "cells": [
  {
   "attachments": {},
   "cell_type": "markdown",
   "metadata": {},
   "source": [
    "# Plotting\n",
    "\n",
    "Selection of plotting tool depends on the purpose of the plot. \n",
    "\n",
    "This notebook demonstrates interactive and static plotting. \n",
    "\n",
    "More on static plotting methods can be found [here](https://github.com/ICWallis/tutorial-publication-ready-figures)."
   ]
  },
  {
   "cell_type": "code",
   "execution_count": null,
   "metadata": {},
   "outputs": [],
   "source": [
    "import pandas as pd\n",
    "\n",
    "import matplotlib.pyplot as plt\n",
    "\n",
    "from plotly.subplots import make_subplots\n",
    "import plotly.graph_objects as go\n",
    "import plotly.offline as py\n",
    "\n",
    "from datetime import datetime\n",
    "import matplotlib.dates as mdates\n",
    "from matplotlib.ticker import AutoMinorLocator\n"
   ]
  },
  {
   "attachments": {},
   "cell_type": "markdown",
   "metadata": {},
   "source": [
    "## Import data\n",
    "\n",
    "We will work with the weekly average file made in the last notebook"
   ]
  },
  {
   "cell_type": "code",
   "execution_count": null,
   "metadata": {},
   "outputs": [],
   "source": [
    "data = pd.read_csv(r'1-Data-weekly.csv',parse_dates = ['Date'])"
   ]
  },
  {
   "cell_type": "code",
   "execution_count": null,
   "metadata": {},
   "outputs": [],
   "source": [
    "data.columns"
   ]
  },
  {
   "attachments": {},
   "cell_type": "markdown",
   "metadata": {},
   "source": [
    "## Interactive plot - interactive data analysis\n",
    "\n",
    "Writes the data to an html file that can be zoomed"
   ]
  },
  {
   "cell_type": "code",
   "execution_count": null,
   "metadata": {},
   "outputs": [],
   "source": [
    "fig = make_subplots(\n",
    "    rows=1,\n",
    "    cols=1,\n",
    "    shared_xaxes=True,\n",
    "    vertical_spacing=0.04\n",
    "    )\n",
    "\n",
    "\n",
    "fig.append_trace(go.Scatter(\n",
    "    x = data.Date,\n",
    "    y = data.Total_prod_tph,\n",
    "    name = 'Total production',\n",
    "    ), row=1, col=1)\n",
    "\n",
    "\n",
    "fig.append_trace(go.Scatter(\n",
    "    x = data.Date,\n",
    "    y = data.Total_inj_tph,\n",
    "    name = 'Total injection',\n",
    "    ), row=1, col=1)\n",
    "\n",
    "fig.update_layout(\n",
    "    template='ggplot2',\n",
    "    title='Mass Ballance',\n",
    "    width = 1000,\n",
    "    height = 400,\n",
    "    showlegend=True\n",
    "    )\n",
    "\n",
    "fig.update_yaxes(title_text='TMF', row=2, col=1)"
   ]
  },
  {
   "cell_type": "code",
   "execution_count": null,
   "metadata": {},
   "outputs": [],
   "source": [
    "fig = make_subplots(\n",
    "    rows=1,\n",
    "    cols=1,\n",
    "    shared_xaxes=True,\n",
    "    vertical_spacing=0.04\n",
    "    )\n",
    "\n",
    "fig.append_trace(go.Scatter(\n",
    "    x = data.Date,\n",
    "    y = data.Total_prod_tph,\n",
    "    #mode = 'markers + lines',\n",
    "    name = 'Total production',\n",
    "    ), row=1, col=1)\n",
    "\n",
    "\n",
    "fig.append_trace(go.Scatter(\n",
    "    x = data.Date,\n",
    "    y = data.Total_inj_tph,\n",
    "    #mode = 'markers + lines',\n",
    "    name = 'Total injection',\n",
    "    ), row=1, col=1)\n",
    "\n",
    "fig.update_layout(\n",
    "    template='ggplot2',\n",
    "    title='Mass Ballance',\n",
    "    width = 1000,\n",
    "    height = 400,\n",
    "    showlegend=True\n",
    "    )\n",
    "\n",
    "fig.update_yaxes(title_text='TMF', row=2, col=1)\n",
    "\n",
    "py.plot(fig, filename= '2-Interactive.html')"
   ]
  },
  {
   "cell_type": "code",
   "execution_count": null,
   "metadata": {},
   "outputs": [],
   "source": [
    "fig = make_subplots(\n",
    "    rows=2,\n",
    "    cols=1,\n",
    "    shared_xaxes=True,\n",
    "    vertical_spacing=0.04\n",
    "    )\n",
    "\n",
    "fig.append_trace(go.Scatter(\n",
    "    x = data.Date,\n",
    "    y = data.Total_prod_tph,\n",
    "    #mode = 'markers + lines',\n",
    "    name = 'Total production',\n",
    "    ), row=1, col=1)\n",
    "\n",
    "\n",
    "fig.append_trace(go.Scatter(\n",
    "    x = data.Date,\n",
    "    y = data.Total_inj_tph,\n",
    "    #mode = 'markers + lines',\n",
    "    name = 'Total production',\n",
    "    ), row=1, col=1)\n",
    "\n",
    "fig.append_trace(go.Scatter(\n",
    "    x = data.Date,\n",
    "    y = data['I-1 TMF T/hr'],\n",
    "    #mode = 'markers + lines',\n",
    "    name = 'I1',\n",
    "    ), row=2, col=1)\n",
    "\n",
    "fig.append_trace(go.Scatter(\n",
    "    x = data.Date,\n",
    "    y = data['I-2 TMF T/hr'],\n",
    "    #mode = 'markers + lines',\n",
    "    name = 'I2',\n",
    "    ), row=2, col=1)\n",
    "\n",
    "fig.update_layout(\n",
    "    template='ggplot2',\n",
    "    title='Mass Ballance',\n",
    "    width = 1000,\n",
    "    height = 400,\n",
    "    showlegend=True\n",
    "    )\n",
    "\n",
    "fig.update_yaxes(title_text='TMF', row=2, col=1)\n",
    "\n",
    "py.plot(fig, filename= '2-Interactive_2.html')"
   ]
  },
  {
   "cell_type": "code",
   "execution_count": null,
   "metadata": {},
   "outputs": [],
   "source": [
    "data.columns"
   ]
  },
  {
   "attachments": {},
   "cell_type": "markdown",
   "metadata": {},
   "source": [
    "## Static plot - advanced formatting for report\n",
    "\n",
    "### Convert string to date\n",
    "\n",
    "Use the datetime.strptime method from the datetime package\n",
    "\n",
    "Python datetime format codes:\n",
    "- %d\tDay of the month as a zero-padded decimal.\t01, 02, ..., 31\n",
    "- %-d\tDay of the month as a decimal number.\t1, 2, ..., 30\n",
    "- %b\tAbbreviated month name.\tJan, Feb, ..., Dec\n",
    "- %B\tFull month name.\tJanuary, February, ...\n",
    "- %m\tMonth as a zero-padded decimal number.\t01, 02, ..., 12\n",
    "- %-m\tMonth as a decimal number.\t1, 2, ..., 12\n",
    "- %y\tYear without century as a zero-padded decimal number.\t00, 01, ..., 99\n",
    "- %-y\tYear without century as a decimal number.\t0, 1, ..., 99\n",
    "- %Y\tYear with century as a decimal number.\t2013, 2019 etc.\n",
    "\n",
    "For more codes https://www.programiz.com/python-programming/datetime/strftime"
   ]
  },
  {
   "cell_type": "code",
   "execution_count": null,
   "metadata": {},
   "outputs": [],
   "source": [
    "my_date = datetime.strptime('12-Jan-2020', '%d-%b-%Y') #, '%d/%m/%y\n",
    "\n",
    "print(my_date)"
   ]
  },
  {
   "cell_type": "code",
   "execution_count": null,
   "metadata": {},
   "outputs": [],
   "source": [
    "my_date_pd = pd.to_datetime('12-Jan-2020')\n",
    "print(my_date_pd)"
   ]
  },
  {
   "attachments": {},
   "cell_type": "markdown",
   "metadata": {},
   "source": [
    "Make plot that highlights periods in the mass ballance with issues"
   ]
  },
  {
   "cell_type": "code",
   "execution_count": null,
   "metadata": {},
   "outputs": [],
   "source": [
    "\n",
    "\n",
    "fig, ax = plt.subplots(1,1,figsize=(10,3))\n",
    "\n",
    "#\n",
    "# Plot the data\n",
    "#\n",
    "\n",
    "ax.plot(\n",
    "    data.Date.values,\n",
    "    data.Total_prod_tph.values,\n",
    "    color = 'tab:red',\n",
    "    linewidth=1,\n",
    "    label = 'Total production',\n",
    ")\n",
    "\n",
    "ax.plot(\n",
    "    data.Date.values,\n",
    "    data.Total_inj_tph.values,\n",
    "    color = 'tab:blue',\n",
    "    linewidth=1,\n",
    "    label = 'Total injection'\n",
    ")\n",
    "\n",
    "ax.fill_between(\n",
    "    data.Date.values, \n",
    "    data.Total_prod_tph.values, \n",
    "    data.Total_inj_tph.values,\n",
    "    color = 'k',\n",
    "    alpha=0.1\n",
    "    )\n",
    "\n",
    "#\n",
    "# Highlight periods where injection wells have metering issues\n",
    "#\n",
    "\n",
    "ax.axvspan(\n",
    "    datetime.strptime('17-Jan-1999', '%d-%b-%Y'), # start of metering issue period\n",
    "    datetime.strptime('4-Apr-1999', '%d-%b-%Y'), # start of metering issue period\n",
    "    ymin=0, # bottom of box, proportion from 0-1\n",
    "    ymax=1,  # top of box, proportion from 0-1\n",
    "    alpha=0.1,\n",
    "    color = 'tab:blue',\n",
    ")\n",
    "\n",
    "ax.axvspan(\n",
    "    pd.to_datetime('21-Jul-2002'), # start of metering issue period\n",
    "    pd.to_datetime('6-Oct-2002'), # start of metering issue period\n",
    "    ymin=0, # bottom of box, proportion from 0-1\n",
    "    ymax=1,  # top of box, proportion from 0-1\n",
    "    alpha=0.1,\n",
    "    color = 'tab:blue',\n",
    ")\n",
    "\n",
    "#\n",
    "# Format plot\n",
    "#\n",
    "\n",
    "plt.title('Mass Ballance')\n",
    "\n",
    "ax.set_ylabel('TMF [T/hr]')\n",
    "\n",
    "ax.xaxis.set_major_formatter(mdates.DateFormatter('%b-%Y'))\n",
    "\n",
    "ax.xaxis.set_minor_locator(AutoMinorLocator())\n",
    "\n",
    "ax.grid(\n",
    "    linestyle = '-',\n",
    "    which='major',\n",
    "    alpha=0.5,\n",
    "    )\n",
    "\n",
    "\n",
    "ax.grid(\n",
    "    alpha=0.5,\n",
    "    linestyle = ':',\n",
    "    which='minor',\n",
    "    )\n",
    "\n",
    "ax.legend(\n",
    "    loc='center', \n",
    "    bbox_to_anchor=(0.5, -0.2), # x, y position as proportion\n",
    "    ncol=2,\n",
    ")\n",
    "\n",
    "#\n",
    "# Export plot\n",
    "#\n",
    "\n",
    "plt.savefig(\n",
    "    '2-Static.png',\n",
    "    dpi=400,\n",
    "    bbox_inches='tight',\n",
    ")"
   ]
  },
  {
   "attachments": {},
   "cell_type": "markdown",
   "metadata": {},
   "source": [
    "### Figure finishing\n",
    "\n",
    "- Interoperable with Adobe Illustrator (export to pdf or use live links)\n",
    "- Deja Vu font pack can be downloaded (e.g., https://www.fontsquirrel.com/fonts/dejavu-sans)"
   ]
  },
  {
   "cell_type": "markdown",
   "metadata": {},
   "source": []
  }
 ],
 "metadata": {
  "kernelspec": {
   "display_name": "sgw_env_int",
   "language": "python",
   "name": "python3"
  },
  "language_info": {
   "codemirror_mode": {
    "name": "ipython",
    "version": 3
   },
   "file_extension": ".py",
   "mimetype": "text/x-python",
   "name": "python",
   "nbconvert_exporter": "python",
   "pygments_lexer": "ipython3",
   "version": "3.9.15"
  },
  "orig_nbformat": 4,
  "vscode": {
   "interpreter": {
    "hash": "28e95de71bbcf09c1444ff7d54651fdf8c668d7cd239aea4b3daa2d866405411"
   }
  }
 },
 "nbformat": 4,
 "nbformat_minor": 2
}
