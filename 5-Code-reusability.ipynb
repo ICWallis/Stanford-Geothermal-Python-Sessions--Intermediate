{
 "cells": [
  {
   "attachments": {},
   "cell_type": "markdown",
   "metadata": {},
   "source": [
    "# Code reusability\n",
    "\n",
    "Some fuzzy jargon:\n",
    "- **Scripts:** Python files that contain commands in logical order, is run directly and does something (i.e., has an output). Scripts may include functions, but those functions are called within the script.\n",
    "- **Modules:** Files containing classes, functions, and variables that are designed to be imported by scripts or other modules (e.g., the Utilities.py file)\n",
    "- **Packages:** A collection of related modules. Can be either local or called from the Python Package Index (PyPI, pip install x). Has an \"__init__\" file.\n",
    "- **Libraries:** A bundle of packages, such as the python standard library.\n",
    "\n",
    "Making Modules and Packages makes code more reuseable and shareable. They also clean up your working code and make it easier for you to focus on the analysis and results."
   ]
  },
  {
   "attachments": {},
   "cell_type": "markdown",
   "metadata": {},
   "source": [
    "## Example of a script"
   ]
  },
  {
   "cell_type": "code",
   "execution_count": null,
   "metadata": {},
   "outputs": [],
   "source": [
    "import numpy as np\n",
    "import matplotlib.pyplot as plt\n",
    "\n",
    "#\n",
    "# Input parameters\n",
    "#\n",
    "\n",
    "Pp = 30 # MPa for 4400 psi from Zoback homework\n",
    "Sv = 75.8 # MPa for 11000 psi from Zoback homework\n",
    "mu = 0.6 # coefficient of friction\n",
    "\n",
    "\n",
    "# \n",
    "# Functions\n",
    "# \n",
    "\n",
    "# Extension limit of the stress polygon\n",
    "# S_hmin = S_Hmax << S_v\n",
    "\n",
    "def minstress(S1,Pp,mu):\n",
    "    '''Use the stress ratio and frictional faulting theroy to constrain minimum stress\n",
    "    \n",
    "    My calculations assume MPa, but other pressure units (Pa, psi) could be used\n",
    "    \n",
    "        Args:       Pp pore pressure \n",
    "                    S1 maximum stress\n",
    "        \n",
    "        Returns:    S3 minimum stress\n",
    "    '''\n",
    "    S3 = ((S1-Pp)/(((mu**2 + 1.)**0.5 + mu)**2))+Pp\n",
    "    return S3\n",
    "\n",
    "\n",
    "# Compression limit of the stress polygon\n",
    "# S_hmin = S_Hmax >> S_v\n",
    "\n",
    "def maxstress(S3,Pp,mu):\n",
    "    '''Use the stress ratio and frictional faulting theory to constrain the maximum stress\n",
    "    \n",
    "        My calculations assume MPa, but other pressure units (Pa, psi) could be used\n",
    "    \n",
    "        Args:       Pp pore pressure \n",
    "                    S3 minimum stress\n",
    "        \n",
    "        Returns:    S1 maximum stress\n",
    "    '''\n",
    "    S1 = ((S3-Pp)*(((mu**2 + 1.)**0.5 + mu)**2))+Pp\n",
    "    return S1\n",
    "\n",
    "\n",
    "#\n",
    "# Define stress limits using the functions\n",
    "#\n",
    "\n",
    "minSh = minstress(Sv,Pp,mu)\n",
    "maxSh = maxstress(Sv,Pp,mu)\n",
    "minSH = minSh \n",
    "maxSH = maxSh\n",
    "\n",
    "#\n",
    "# Plot stress polygon\n",
    "#\n",
    "\n",
    "fig, ax = plt.subplots(1,1,figsize=(6,6))\n",
    "\n",
    "# Vertical stress\n",
    "ax.plot(Sv,Sv,'o',color='k')\n",
    "\n",
    "# Connecting lines\n",
    "ax.plot([minSh,minSh],[minSh,Sv],color='k',alpha=0.5) \n",
    "ax.plot([minSh,Sv],[Sv,maxSH],color='k',alpha=0.5)\n",
    "ax.plot([Sv,maxSh],[maxSH,maxSH],color='k',alpha=0.5)\n",
    "ax.plot([minSh,Sv],[Sv,Sv],color='k',linestyle=':',alpha=0.5)\n",
    "ax.plot([Sv,Sv],[Sv,maxSH],color='k',linestyle=':',alpha=0.5)\n",
    "ax.plot([minSh,maxSH],[minSh,maxSH],color='k',alpha=0.5)\n",
    "\n",
    "# Labels\n",
    "ax.text((maxSH-Sv)/4+Sv,(maxSH-Sv)/1.5+Sv, 'RF', fontsize=10)\n",
    "ax.text((Sv-minSh)/2+minSh,(maxSH-Sv)/8+Sv, 'SS', fontsize=10)\n",
    "ax.text((Sv-minSh)/4+minSh,(Sv-minSh)/1.5+minSh, 'NF', fontsize=10)\n",
    "\n",
    "# Format plot\n",
    "\n",
    "ax.set_xlim(minSh-20, maxSh+20)\n",
    "ax.set_ylim(minSh-20, maxSh+20)\n",
    "\n",
    "ax.set_xlabel('$S_{hmin}$ [MPa]')\n",
    "ax.set_ylabel('$S_{Hmin}$ [MPa]')\n",
    "\n",
    ";"
   ]
  },
  {
   "attachments": {},
   "cell_type": "markdown",
   "metadata": {},
   "source": [
    "## Same script, but uses a module - Utilities.py\n",
    "\n",
    "Enables you to focus on the science, rather than the code"
   ]
  },
  {
   "cell_type": "code",
   "execution_count": null,
   "metadata": {},
   "outputs": [],
   "source": [
    "from Utilities import *\n",
    "\n",
    "Pp = 30 # Pore pressure, MPa \n",
    "Sv = 75.8 # Vertical stress, MPa\n",
    "mu = 0.6 # Coefficient of friction\n",
    "\n",
    "plot = stress_polygon(Sv, Pp, mu)\n",
    "\n",
    "plot.savefig('Stress_polygon_figure.png')"
   ]
  },
  {
   "cell_type": "code",
   "execution_count": null,
   "metadata": {},
   "outputs": [],
   "source": []
  }
 ],
 "metadata": {
  "kernelspec": {
   "display_name": "sgw_env_int",
   "language": "python",
   "name": "python3"
  },
  "language_info": {
   "codemirror_mode": {
    "name": "ipython",
    "version": 3
   },
   "file_extension": ".py",
   "mimetype": "text/x-python",
   "name": "python",
   "nbconvert_exporter": "python",
   "pygments_lexer": "ipython3",
   "version": "3.9.15"
  },
  "orig_nbformat": 4,
  "vscode": {
   "interpreter": {
    "hash": "28e95de71bbcf09c1444ff7d54651fdf8c668d7cd239aea4b3daa2d866405411"
   }
  }
 },
 "nbformat": 4,
 "nbformat_minor": 2
}
