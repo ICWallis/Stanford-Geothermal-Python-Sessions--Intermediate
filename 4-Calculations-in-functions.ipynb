{
 "cells": [
  {
   "cell_type": "code",
   "execution_count": null,
   "metadata": {},
   "outputs": [],
   "source": [
    "- Something from fractoolbox (integration)\n",
    "- Something from fractoolbox (linear algebra)\n",
    "\n",
    "Utilties file"
   ]
  }
 ],
 "metadata": {
  "language_info": {
   "name": "python"
  },
  "orig_nbformat": 4
 },
 "nbformat": 4,
 "nbformat_minor": 2
}
