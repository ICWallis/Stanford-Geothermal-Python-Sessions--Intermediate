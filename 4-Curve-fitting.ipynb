{
 "cells": [
  {
   "attachments": {},
   "cell_type": "markdown",
   "metadata": {},
   "source": [
    "# Curve fitting\n",
    "\n",
    "Using the NumPy and SciPy packages"
   ]
  },
  {
   "cell_type": "code",
   "execution_count": null,
   "metadata": {},
   "outputs": [],
   "source": [
    "import numpy as np\n",
    "from scipy import optimize, stats\n",
    "import matplotlib.pyplot as plt"
   ]
  },
  {
   "attachments": {},
   "cell_type": "markdown",
   "metadata": {},
   "source": [
    "### Linear fit numpy.polyfit\n",
    "\n",
    "Fit a first-order polynomial with NumPy. Returns a simple model object that can be used.\n",
    "\n",
    "#### 1) Synthesize a dataset"
   ]
  },
  {
   "cell_type": "code",
   "execution_count": null,
   "metadata": {},
   "outputs": [],
   "source": [
    "# define a linear function\n",
    "def linfunc(m,x,c):\n",
    "    return m * x + c\n",
    "\n",
    "# generate some x data\n",
    "x_data = np.linspace(0, 30, 30)\n",
    "\n",
    "# use the function to generate the y data\n",
    "y_data = linfunc(-10, x_data, 1000)\n",
    "\n",
    "# use a random number generator to generate some noise\n",
    "random_numgen = np.random.default_rng()\n",
    "noise_y = 50 * random_numgen.normal(size=x_data.size)\n",
    "\n",
    "# add noise to the y data\n",
    "data_y = y_data + noise_y\n",
    "\n",
    "# plot the resulting x, y data\n",
    "fig, ax = plt.subplots(1,1, figsize=(4,4))\n",
    "ax.scatter(x_data, data_y, label='data')\n",
    "ax.set_ylabel('x_data')\n",
    "ax.set_xlabel('y_data')"
   ]
  },
  {
   "attachments": {},
   "cell_type": "markdown",
   "metadata": {},
   "source": [
    "#### 2) Fit first-order polynomial to data using NumPy\n",
    "\n",
    "https://numpy.org/doc/stable/reference/generated/numpy.polyfit.html"
   ]
  },
  {
   "cell_type": "code",
   "execution_count": null,
   "metadata": {},
   "outputs": [],
   "source": [
    "# fit model\n",
    "model = np.poly1d(np.polyfit(\n",
    "    x_data,\n",
    "    y_data,\n",
    "    1 # first order polynomial, you could do other orders\n",
    "    ))\n",
    "\n",
    "print('Correlation equation ', model)\n",
    "\n",
    "# Note that you can index values from the model object\n",
    "\n",
    "correlation_intersect = round(model[0],0)\n",
    "correlation_slope = round(model[1],0)"
   ]
  },
  {
   "attachments": {},
   "cell_type": "markdown",
   "metadata": {},
   "source": [
    "#### 3) Use model to find y for the given x"
   ]
  },
  {
   "cell_type": "code",
   "execution_count": null,
   "metadata": {},
   "outputs": [],
   "source": [
    "y_modelled = model(x_data)\n",
    "\n",
    "print(y_modelled)"
   ]
  },
  {
   "attachments": {},
   "cell_type": "markdown",
   "metadata": {},
   "source": [
    "#### 4) Plot modelled y and data together, with equation"
   ]
  },
  {
   "cell_type": "code",
   "execution_count": null,
   "metadata": {},
   "outputs": [],
   "source": [
    "# plot the resulting x, y data\n",
    "fig, ax = plt.subplots(1,1, figsize=(4,4))\n",
    "ax.scatter(x_data, data_y, label='data')\n",
    "ax.plot(\n",
    "    x_data, \n",
    "    y_modelled, \n",
    "    'r-',\n",
    "    # recall we used indexing above to assign parts of the model to variables\n",
    "    label= f'y = {correlation_slope} x + {correlation_intersect}'\n",
    "    )\n",
    "ax.set_ylabel('y_data, y_modelled')\n",
    "ax.set_xlabel('x_data')\n",
    "ax.legend();"
   ]
  },
  {
   "attachments": {},
   "cell_type": "markdown",
   "metadata": {},
   "source": [
    "### Linear fit with scipy.stats\n",
    "\n",
    "Will do the fit and information about the goodness of fit. \n",
    "\n",
    "https://docs.scipy.org/doc/scipy/reference/generated/scipy.stats.linregress.html"
   ]
  },
  {
   "attachments": {},
   "cell_type": "markdown",
   "metadata": {},
   "source": [
    "#### 1) Using the same data as above, generate a linear model fit"
   ]
  },
  {
   "cell_type": "code",
   "execution_count": null,
   "metadata": {},
   "outputs": [],
   "source": [
    "slope, intercept, r_value, p_value, std_err = stats.linregress(x_data, y_data)\n",
    "\n",
    "print(slope, intercept, r_value)"
   ]
  },
  {
   "attachments": {},
   "cell_type": "markdown",
   "metadata": {},
   "source": [
    "#### 2) Determine y for a given x"
   ]
  },
  {
   "cell_type": "code",
   "execution_count": null,
   "metadata": {},
   "outputs": [],
   "source": [
    "y_modelled_stats = []\n",
    "for x in x_data:\n",
    "    y = slope * x + intercept\n",
    "    y_modelled_stats.append(y)"
   ]
  },
  {
   "attachments": {},
   "cell_type": "markdown",
   "metadata": {},
   "source": [
    "#### 3) Plot data and modelled fit together"
   ]
  },
  {
   "cell_type": "code",
   "execution_count": null,
   "metadata": {},
   "outputs": [],
   "source": [
    "# plot the resulting x, y data\n",
    "fig, ax = plt.subplots(1,1, figsize=(4,4))\n",
    "ax.scatter(x_data, data_y, label='data')\n",
    "ax.plot(\n",
    "    x_data, \n",
    "    y_modelled_stats, \n",
    "    'r-',\n",
    "    # recall we used indexing above to assign parts of the model to variables\n",
    "    label= f'y = {round(slope,0)} x + {round(intercept,0)}'\n",
    "    )\n",
    "ax.set_ylabel('y_data, y_modelled')\n",
    "ax.set_xlabel('x_data')\n",
    "ax.legend();"
   ]
  },
  {
   "attachments": {},
   "cell_type": "markdown",
   "metadata": {},
   "source": [
    "## Non-linear problems\n",
    "\n",
    "If you know the function, then you can use a non-linear least squares to fit a function to the data. \n",
    "\n",
    "scipy.optimize.curve_fit(f, xdata, ydata, sigma=None, p0=None, absolute_sigma=True, bounds=(- inf, inf), check_finite=True, jac=None, method=None)\n",
    "\n",
    "Helpful tutorial that this method is based on: https://pythonguides.com/python-scipy-exponential/\n",
    "\n",
    "\n",
    "#### Example: Exponential decline\n",
    "\n",
    "$y=a e^{-b x} + c$\n",
    "\n",
    "- c1 = mass rate at time zero (must be zero)\n",
    "- c2 = is decline rate in mass rate per year\n",
    "- s = shift on the x axis\n",
    "\n",
    "#### 1) Define the function\n",
    "\n",
    "We will be using this + random noise to generate data. Then later we will use the function + scipy.optimize to find a fit. "
   ]
  },
  {
   "cell_type": "code",
   "execution_count": null,
   "metadata": {},
   "outputs": [],
   "source": [
    "def expfunc(x, a, b, c):\n",
    "    return a * np.exp(-b * x) + c"
   ]
  },
  {
   "attachments": {},
   "cell_type": "markdown",
   "metadata": {},
   "source": [
    "#### 2) Synthesize some data"
   ]
  },
  {
   "cell_type": "code",
   "execution_count": null,
   "metadata": {},
   "outputs": [],
   "source": [
    "# generate some x data\n",
    "x_data = np.linspace(0, 30, 30)\n",
    "\n",
    "# use the exponential function to generate the y data\n",
    "y_data = expfunc(x_data, 1000, 0.15, 1)\n",
    "\n",
    "# use a random number generator to generate some noise\n",
    "random_numgen = np.random.default_rng()\n",
    "noise_y = 150 * random_numgen.normal(size=x_data.size)\n",
    "\n",
    "# add noise to the y data\n",
    "data_y = y_data + noise_y\n",
    "\n",
    "# plot the resulting x, y data\n",
    "fig, ax = plt.subplots(1,1, figsize=(4,4))\n",
    "ax.scatter(x_data, data_y, label='data')\n",
    "ax.set_ylabel('Mass rate (T/hr)')\n",
    "ax.set_xlabel('Time (decimal year)')"
   ]
  },
  {
   "attachments": {},
   "cell_type": "markdown",
   "metadata": {},
   "source": [
    "#### 3) Use scipy.optimize to fit the function to the data "
   ]
  },
  {
   "cell_type": "code",
   "execution_count": null,
   "metadata": {},
   "outputs": [],
   "source": [
    "p_opt, p_cov = optimize.curve_fit(expfunc, x_data, data_y)"
   ]
  },
  {
   "attachments": {},
   "cell_type": "markdown",
   "metadata": {},
   "source": [
    "#### 4) Find y for a given x using the fitted function"
   ]
  },
  {
   "cell_type": "code",
   "execution_count": null,
   "metadata": {},
   "outputs": [],
   "source": [
    "y_modelled_opti = expfunc(x_data, *p_opt)"
   ]
  },
  {
   "attachments": {},
   "cell_type": "markdown",
   "metadata": {},
   "source": [
    "#### 5) Plot data and modelled fit together"
   ]
  },
  {
   "cell_type": "code",
   "execution_count": null,
   "metadata": {},
   "outputs": [],
   "source": [
    "fig, ax = plt.subplots(1,1,figsize=(6,4))\n",
    "ax.scatter(x_data, data_y, label='data')\n",
    "ax.plot(\n",
    "    x_data, y_modelled_opti,\n",
    "    'r-',\n",
    "    label=f'fit variables: a={round(p_opt[0],2)}, b={round(p_opt[1],2)}, c={round(p_opt[2],2)}'\n",
    "    )\n",
    "ax.legend()\n",
    "ax.set_ylabel('y_data, y_modelled')\n",
    "ax.set_xlabel('x_data');"
   ]
  },
  {
   "cell_type": "code",
   "execution_count": null,
   "metadata": {},
   "outputs": [],
   "source": []
  }
 ],
 "metadata": {
  "kernelspec": {
   "display_name": "sgw_env_int",
   "language": "python",
   "name": "python3"
  },
  "language_info": {
   "codemirror_mode": {
    "name": "ipython",
    "version": 3
   },
   "file_extension": ".py",
   "mimetype": "text/x-python",
   "name": "python",
   "nbconvert_exporter": "python",
   "pygments_lexer": "ipython3",
   "version": "3.9.15"
  },
  "orig_nbformat": 4,
  "vscode": {
   "interpreter": {
    "hash": "28e95de71bbcf09c1444ff7d54651fdf8c668d7cd239aea4b3daa2d866405411"
   }
  }
 },
 "nbformat": 4,
 "nbformat_minor": 2
}
