{
 "cells": [
  {
   "cell_type": "code",
   "execution_count": null,
   "metadata": {},
   "outputs": [],
   "source": []
  },
  {
   "attachments": {},
   "cell_type": "markdown",
   "metadata": {},
   "source": [
    "Ecosystem/package topics:\n",
    "- Source control for you, future you, and your team\n",
    "- Collaboration using source control and code structure and commenting\n",
    "- Unit handling - object names (self-documenting code), Pint, code commenting\n",
    "- Open source and licenses\n",
    "- Steam tables (both packages)\n",
    "- Other specialist packages\n",
    "\n",
    "\n",
    "Examples:\n",
    "- Mass-ballance (data handling in Pandas, volume flow to mass flow, sum seps)\n",
    "- Pandas and numpy in computer memory and .copy() pointers vs copies\n",
    "- Clean steamfield data (when to excel and when to Python)\n",
    "- Static (matplotlib, de javu font pack, figure finishing) and dynamic plotting (Plotly)\n",
    "- Something from the well test tutorial (first, second, third order polynomials)\n",
    "- Something from fractoolbox (integration)\n",
    "- Something from fractoolbox (linear algebra)"
   ]
  }
 ],
 "metadata": {
  "language_info": {
   "name": "python"
  },
  "orig_nbformat": 4
 },
 "nbformat": 4,
 "nbformat_minor": 2
}
