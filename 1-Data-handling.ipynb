{
 "cells": [
  {
   "attachments": {},
   "cell_type": "markdown",
   "metadata": {},
   "source": [
    "- Advanced Pandas args to catch errors in data files\n",
    "- Datetime hell (excel vs txt files)\n",
    "- Pandas quick plots and stats\n",
    "- Sum columns (header hygiene, . vs [])\n",
    "- Volume to mass flow\n",
    "- Averaging data \n",
    "- Static plot (matplotlib) and dynamic plot (Plotly)\n",
    "\n",
    "\n",
    "- Mass-ballance (data handling in Pandas, volume flow to mass flow, sum seps)\n",
    "- Pandas and numpy in computer memory and .copy() pointers vs copies\n",
    "- Clean steamfield data (when to excel and when to Python)\n"
   ]
  },
  {
   "attachments": {},
   "cell_type": "markdown",
   "metadata": {},
   "source": [
    "# Data Handling with Pandas\n",
    "\n",
    "Python + Pandas is a powerful data handling toolkit. However, practical real-world data handing is not always python data handling. "
   ]
  },
  {
   "cell_type": "code",
   "execution_count": 1,
   "metadata": {},
   "outputs": [],
   "source": [
    "import pandas as pd"
   ]
  },
  {
   "attachments": {},
   "cell_type": "markdown",
   "metadata": {},
   "source": [
    "## Handle import errors\n",
    "\n",
    "Use the excel file '1-Data-errors.xlsx' to explore common data/datetime handling errors."
   ]
  },
  {
   "cell_type": "code",
   "execution_count": 34,
   "metadata": {},
   "outputs": [],
   "source": [
    "error_df = pd.read_excel(\n",
    "    r'1-Data-errors.xlsx', \n",
    "    sheet_name='Sheet1',\n",
    "    #header=1, # removes row 0, makes row 1 the headder\n",
    "    #na_values=['na', '', ' '] # replaces value with NaN\n",
    "    )"
   ]
  },
  {
   "cell_type": "code",
   "execution_count": 35,
   "metadata": {},
   "outputs": [
    {
     "data": {
      "text/html": [
       "<div>\n",
       "<style scoped>\n",
       "    .dataframe tbody tr th:only-of-type {\n",
       "        vertical-align: middle;\n",
       "    }\n",
       "\n",
       "    .dataframe tbody tr th {\n",
       "        vertical-align: top;\n",
       "    }\n",
       "\n",
       "    .dataframe thead th {\n",
       "        text-align: right;\n",
       "    }\n",
       "</style>\n",
       "<table border=\"1\" class=\"dataframe\">\n",
       "  <thead>\n",
       "    <tr style=\"text-align: right;\">\n",
       "      <th></th>\n",
       "      <th>Date_best</th>\n",
       "      <th>Date_international</th>\n",
       "      <th>Date_USA</th>\n",
       "      <th>Data_clean</th>\n",
       "      <th>Data_with_errors</th>\n",
       "      <th>Data_with_null</th>\n",
       "      <th>Header_error</th>\n",
       "      <th>Unnamed: 7</th>\n",
       "    </tr>\n",
       "  </thead>\n",
       "  <tbody>\n",
       "    <tr>\n",
       "      <th>0</th>\n",
       "      <td>2020-06-03</td>\n",
       "      <td>2020-06-03</td>\n",
       "      <td>2020-03-06</td>\n",
       "      <td>3.00</td>\n",
       "      <td>x</td>\n",
       "      <td>3.00</td>\n",
       "      <td>3.00</td>\n",
       "      <td>NaN</td>\n",
       "    </tr>\n",
       "    <tr>\n",
       "      <th>1</th>\n",
       "      <td>2020-06-04</td>\n",
       "      <td>2020-06-04</td>\n",
       "      <td>2020-04-06</td>\n",
       "      <td>4.30</td>\n",
       "      <td>4.3</td>\n",
       "      <td>4.30</td>\n",
       "      <td>4.30</td>\n",
       "      <td>NaN</td>\n",
       "    </tr>\n",
       "    <tr>\n",
       "      <th>2</th>\n",
       "      <td>2020-07-03</td>\n",
       "      <td>2020-07-03</td>\n",
       "      <td>2020-03-07</td>\n",
       "      <td>3.55</td>\n",
       "      <td>3.55</td>\n",
       "      <td>NaN</td>\n",
       "      <td>3.55</td>\n",
       "      <td>NaN</td>\n",
       "    </tr>\n",
       "    <tr>\n",
       "      <th>3</th>\n",
       "      <td>2020-06-12</td>\n",
       "      <td>2020-06-12</td>\n",
       "      <td>2020-12-06</td>\n",
       "      <td>2.33</td>\n",
       "      <td>2,33</td>\n",
       "      <td>2.33</td>\n",
       "      <td>2.33</td>\n",
       "      <td>NaN</td>\n",
       "    </tr>\n",
       "    <tr>\n",
       "      <th>4</th>\n",
       "      <td>2020-04-03</td>\n",
       "      <td>2020-04-03</td>\n",
       "      <td>2020-03-04</td>\n",
       "      <td>94.00</td>\n",
       "      <td>94</td>\n",
       "      <td>NaN</td>\n",
       "      <td>94.00</td>\n",
       "      <td>NaN</td>\n",
       "    </tr>\n",
       "  </tbody>\n",
       "</table>\n",
       "</div>"
      ],
      "text/plain": [
       "   Date_best Date_international   Date_USA  Data_clean Data_with_errors  \\\n",
       "0 2020-06-03         2020-06-03 2020-03-06        3.00                x   \n",
       "1 2020-06-04         2020-06-04 2020-04-06        4.30              4.3   \n",
       "2 2020-07-03         2020-07-03 2020-03-07        3.55             3.55   \n",
       "3 2020-06-12         2020-06-12 2020-12-06        2.33             2,33   \n",
       "4 2020-04-03         2020-04-03 2020-03-04       94.00               94   \n",
       "\n",
       "   Data_with_null   Header_error  Unnamed: 7  \n",
       "0            3.00           3.00         NaN  \n",
       "1            4.30           4.30         NaN  \n",
       "2             NaN           3.55         NaN  \n",
       "3            2.33           2.33         NaN  \n",
       "4             NaN          94.00         NaN  "
      ]
     },
     "execution_count": 35,
     "metadata": {},
     "output_type": "execute_result"
    }
   ],
   "source": [
    "error_df"
   ]
  },
  {
   "cell_type": "code",
   "execution_count": 29,
   "metadata": {},
   "outputs": [
    {
     "name": "stdout",
     "output_type": "stream",
     "text": [
      "<class 'pandas.core.frame.DataFrame'>\n",
      "RangeIndex: 5 entries, 0 to 4\n",
      "Data columns (total 8 columns):\n",
      " #   Column              Non-Null Count  Dtype         \n",
      "---  ------              --------------  -----         \n",
      " 0   Date_best           5 non-null      datetime64[ns]\n",
      " 1   Date_international  5 non-null      datetime64[ns]\n",
      " 2   Date_USA            5 non-null      datetime64[ns]\n",
      " 3   Data_clean          5 non-null      float64       \n",
      " 4   Data_with_errors    5 non-null      object        \n",
      " 5   Data_with_null      3 non-null      float64       \n",
      " 6    Header_error       5 non-null      float64       \n",
      " 7   Unnamed: 7          1 non-null      object        \n",
      "dtypes: datetime64[ns](3), float64(3), object(2)\n",
      "memory usage: 448.0+ bytes\n"
     ]
    }
   ],
   "source": [
    "error_df.info()"
   ]
  },
  {
   "cell_type": "code",
   "execution_count": 14,
   "metadata": {},
   "outputs": [
    {
     "name": "stdout",
     "output_type": "stream",
     "text": [
      "x\n",
      "2,33\n"
     ]
    }
   ],
   "source": [
    "# Find the offending value\n",
    "\n",
    "test_col = error_df['Data_with_errors'].values\n",
    "\n",
    "for value in test_col:\n",
    "    try:\n",
    "        float(value)\n",
    "    except:\n",
    "        print(value)\n",
    "\n",
    "# Go back to excel and CTRL + F for the offending value"
   ]
  },
  {
   "cell_type": "code",
   "execution_count": 22,
   "metadata": {},
   "outputs": [
    {
     "name": "stdout",
     "output_type": "stream",
     "text": [
      "0     3.00\n",
      "1     4.30\n",
      "2     3.55\n",
      "3     2.33\n",
      "4    94.00\n",
      "Name: Data_clean, dtype: float64\n"
     ]
    }
   ],
   "source": [
    "print(error_df['Data_clean']) # This works"
   ]
  },
  {
   "cell_type": "code",
   "execution_count": 23,
   "metadata": {},
   "outputs": [
    {
     "ename": "TypeError",
     "evalue": "'DataFrame' object is not callable",
     "output_type": "error",
     "traceback": [
      "\u001b[1;31m---------------------------------------------------------------------------\u001b[0m",
      "\u001b[1;31mTypeError\u001b[0m                                 Traceback (most recent call last)",
      "\u001b[1;32m~\\AppData\\Local\\Temp\\ipykernel_37300\\4140413458.py\u001b[0m in \u001b[0;36m<module>\u001b[1;34m\u001b[0m\n\u001b[1;32m----> 1\u001b[1;33m \u001b[0mprint\u001b[0m\u001b[1;33m(\u001b[0m\u001b[0merror_df\u001b[0m\u001b[1;33m(\u001b[0m\u001b[1;34m'Header_error'\u001b[0m\u001b[1;33m)\u001b[0m\u001b[1;33m)\u001b[0m \u001b[1;31m# But this does not\u001b[0m\u001b[1;33m\u001b[0m\u001b[1;33m\u001b[0m\u001b[0m\n\u001b[0m",
      "\u001b[1;31mTypeError\u001b[0m: 'DataFrame' object is not callable"
     ]
    }
   ],
   "source": [
    "print(error_df('Header_error')) # But this does not... why?"
   ]
  },
  {
   "cell_type": "code",
   "execution_count": null,
   "metadata": {},
   "outputs": [],
   "source": [
    "# import same data as csv and look at the datetime\n"
   ]
  },
  {
   "cell_type": "code",
   "execution_count": 41,
   "metadata": {},
   "outputs": [],
   "source": [
    "df_errors_from_csv = pd.read_csv(r'1-Data-errors.csv')"
   ]
  },
  {
   "cell_type": "code",
   "execution_count": 42,
   "metadata": {},
   "outputs": [
    {
     "data": {
      "text/html": [
       "<div>\n",
       "<style scoped>\n",
       "    .dataframe tbody tr th:only-of-type {\n",
       "        vertical-align: middle;\n",
       "    }\n",
       "\n",
       "    .dataframe tbody tr th {\n",
       "        vertical-align: top;\n",
       "    }\n",
       "\n",
       "    .dataframe thead th {\n",
       "        text-align: right;\n",
       "    }\n",
       "</style>\n",
       "<table border=\"1\" class=\"dataframe\">\n",
       "  <thead>\n",
       "    <tr style=\"text-align: right;\">\n",
       "      <th></th>\n",
       "      <th>Date_best</th>\n",
       "      <th>Date_international</th>\n",
       "      <th>Date_USA</th>\n",
       "      <th>Data_clean</th>\n",
       "      <th>Data_with_errors</th>\n",
       "      <th>Data_with_null</th>\n",
       "      <th>Header_error</th>\n",
       "      <th>Unnamed: 7</th>\n",
       "    </tr>\n",
       "  </thead>\n",
       "  <tbody>\n",
       "    <tr>\n",
       "      <th>0</th>\n",
       "      <td>3-Jun-20</td>\n",
       "      <td>03/06/20</td>\n",
       "      <td>06/03/20</td>\n",
       "      <td>3.00</td>\n",
       "      <td>x</td>\n",
       "      <td>3</td>\n",
       "      <td>3.00</td>\n",
       "      <td>NaN</td>\n",
       "    </tr>\n",
       "    <tr>\n",
       "      <th>1</th>\n",
       "      <td>4-Jun-20</td>\n",
       "      <td>04/06/20</td>\n",
       "      <td>06/04/20</td>\n",
       "      <td>4.30</td>\n",
       "      <td>4.3</td>\n",
       "      <td>4.3</td>\n",
       "      <td>4.30</td>\n",
       "      <td>NaN</td>\n",
       "    </tr>\n",
       "    <tr>\n",
       "      <th>2</th>\n",
       "      <td>3-Jul-20</td>\n",
       "      <td>03/07/20</td>\n",
       "      <td>07/03/20</td>\n",
       "      <td>3.55</td>\n",
       "      <td>3.55</td>\n",
       "      <td>NaN</td>\n",
       "      <td>3.55</td>\n",
       "      <td>NaN</td>\n",
       "    </tr>\n",
       "    <tr>\n",
       "      <th>3</th>\n",
       "      <td>12-Jun-20</td>\n",
       "      <td>12/06/20</td>\n",
       "      <td>06/12/20</td>\n",
       "      <td>2.33</td>\n",
       "      <td>2,33</td>\n",
       "      <td>2.33</td>\n",
       "      <td>2.33</td>\n",
       "      <td></td>\n",
       "    </tr>\n",
       "    <tr>\n",
       "      <th>4</th>\n",
       "      <td>3-Apr-20</td>\n",
       "      <td>03/04/20</td>\n",
       "      <td>04/03/20</td>\n",
       "      <td>94.00</td>\n",
       "      <td>94</td>\n",
       "      <td>na</td>\n",
       "      <td>94.00</td>\n",
       "      <td>NaN</td>\n",
       "    </tr>\n",
       "  </tbody>\n",
       "</table>\n",
       "</div>"
      ],
      "text/plain": [
       "   Date_best Date_international  Date_USA  Data_clean Data_with_errors  \\\n",
       "0   3-Jun-20           03/06/20  06/03/20        3.00                x   \n",
       "1   4-Jun-20           04/06/20  06/04/20        4.30              4.3   \n",
       "2   3-Jul-20           03/07/20  07/03/20        3.55             3.55   \n",
       "3  12-Jun-20           12/06/20  06/12/20        2.33             2,33   \n",
       "4   3-Apr-20           03/04/20  04/03/20       94.00               94   \n",
       "\n",
       "  Data_with_null   Header_error Unnamed: 7  \n",
       "0              3           3.00        NaN  \n",
       "1            4.3           4.30        NaN  \n",
       "2            NaN           3.55        NaN  \n",
       "3           2.33           2.33             \n",
       "4             na          94.00        NaN  "
      ]
     },
     "execution_count": 42,
     "metadata": {},
     "output_type": "execute_result"
    }
   ],
   "source": [
    "df_errors_from_csv"
   ]
  },
  {
   "cell_type": "code",
   "execution_count": 43,
   "metadata": {},
   "outputs": [
    {
     "name": "stdout",
     "output_type": "stream",
     "text": [
      "<class 'pandas.core.frame.DataFrame'>\n",
      "RangeIndex: 5 entries, 0 to 4\n",
      "Data columns (total 8 columns):\n",
      " #   Column              Non-Null Count  Dtype  \n",
      "---  ------              --------------  -----  \n",
      " 0   Date_best           5 non-null      object \n",
      " 1   Date_international  5 non-null      object \n",
      " 2   Date_USA            5 non-null      object \n",
      " 3   Data_clean          5 non-null      float64\n",
      " 4   Data_with_errors    5 non-null      object \n",
      " 5   Data_with_null      4 non-null      object \n",
      " 6    Header_error       5 non-null      float64\n",
      " 7   Unnamed: 7          1 non-null      object \n",
      "dtypes: float64(2), object(6)\n",
      "memory usage: 448.0+ bytes\n"
     ]
    }
   ],
   "source": [
    "df_errors_from_csv.info()"
   ]
  },
  {
   "attachments": {},
   "cell_type": "markdown",
   "metadata": {},
   "source": [
    "Useful blog post https://towardsdatascience.com/4-tricks-you-should-know-to-parse-date-columns-with-pandas-read-csv-27355bb2ad0e"
   ]
  },
  {
   "cell_type": "code",
   "execution_count": 141,
   "metadata": {},
   "outputs": [],
   "source": [
    "df_errors_from_csv = pd.read_csv(\n",
    "    r'1-Data-errors.csv',\n",
    "    parse_dates = ['Date_best','Date_international','Date_USA'] # default is to parse as US format\n",
    "    )"
   ]
  },
  {
   "cell_type": "code",
   "execution_count": 142,
   "metadata": {},
   "outputs": [
    {
     "data": {
      "text/html": [
       "<div>\n",
       "<style scoped>\n",
       "    .dataframe tbody tr th:only-of-type {\n",
       "        vertical-align: middle;\n",
       "    }\n",
       "\n",
       "    .dataframe tbody tr th {\n",
       "        vertical-align: top;\n",
       "    }\n",
       "\n",
       "    .dataframe thead th {\n",
       "        text-align: right;\n",
       "    }\n",
       "</style>\n",
       "<table border=\"1\" class=\"dataframe\">\n",
       "  <thead>\n",
       "    <tr style=\"text-align: right;\">\n",
       "      <th></th>\n",
       "      <th>Date_best</th>\n",
       "      <th>Date_international</th>\n",
       "      <th>Date_USA</th>\n",
       "      <th>Data_clean</th>\n",
       "      <th>Data_with_errors</th>\n",
       "      <th>Data_with_null</th>\n",
       "      <th>Header_error</th>\n",
       "      <th>Unnamed: 7</th>\n",
       "    </tr>\n",
       "  </thead>\n",
       "  <tbody>\n",
       "    <tr>\n",
       "      <th>0</th>\n",
       "      <td>2020-06-03</td>\n",
       "      <td>2020-03-06</td>\n",
       "      <td>2020-06-03</td>\n",
       "      <td>3.00</td>\n",
       "      <td>x</td>\n",
       "      <td>3</td>\n",
       "      <td>3.00</td>\n",
       "      <td>NaN</td>\n",
       "    </tr>\n",
       "    <tr>\n",
       "      <th>1</th>\n",
       "      <td>2020-06-04</td>\n",
       "      <td>2020-04-06</td>\n",
       "      <td>2020-06-04</td>\n",
       "      <td>4.30</td>\n",
       "      <td>4.3</td>\n",
       "      <td>4.3</td>\n",
       "      <td>4.30</td>\n",
       "      <td>NaN</td>\n",
       "    </tr>\n",
       "    <tr>\n",
       "      <th>2</th>\n",
       "      <td>2020-07-03</td>\n",
       "      <td>2020-03-07</td>\n",
       "      <td>2020-07-03</td>\n",
       "      <td>3.55</td>\n",
       "      <td>3.55</td>\n",
       "      <td>NaN</td>\n",
       "      <td>3.55</td>\n",
       "      <td>NaN</td>\n",
       "    </tr>\n",
       "    <tr>\n",
       "      <th>3</th>\n",
       "      <td>2020-06-12</td>\n",
       "      <td>2020-12-06</td>\n",
       "      <td>2020-06-12</td>\n",
       "      <td>2.33</td>\n",
       "      <td>2,33</td>\n",
       "      <td>2.33</td>\n",
       "      <td>2.33</td>\n",
       "      <td></td>\n",
       "    </tr>\n",
       "    <tr>\n",
       "      <th>4</th>\n",
       "      <td>2020-04-03</td>\n",
       "      <td>2020-03-04</td>\n",
       "      <td>2020-04-03</td>\n",
       "      <td>94.00</td>\n",
       "      <td>94</td>\n",
       "      <td>na</td>\n",
       "      <td>94.00</td>\n",
       "      <td>NaN</td>\n",
       "    </tr>\n",
       "  </tbody>\n",
       "</table>\n",
       "</div>"
      ],
      "text/plain": [
       "   Date_best Date_international   Date_USA  Data_clean Data_with_errors  \\\n",
       "0 2020-06-03         2020-03-06 2020-06-03        3.00                x   \n",
       "1 2020-06-04         2020-04-06 2020-06-04        4.30              4.3   \n",
       "2 2020-07-03         2020-03-07 2020-07-03        3.55             3.55   \n",
       "3 2020-06-12         2020-12-06 2020-06-12        2.33             2,33   \n",
       "4 2020-04-03         2020-03-04 2020-04-03       94.00               94   \n",
       "\n",
       "  Data_with_null   Header_error Unnamed: 7  \n",
       "0              3           3.00        NaN  \n",
       "1            4.3           4.30        NaN  \n",
       "2            NaN           3.55        NaN  \n",
       "3           2.33           2.33             \n",
       "4             na          94.00        NaN  "
      ]
     },
     "execution_count": 142,
     "metadata": {},
     "output_type": "execute_result"
    }
   ],
   "source": [
    "df_errors_from_csv"
   ]
  },
  {
   "cell_type": "code",
   "execution_count": 143,
   "metadata": {},
   "outputs": [],
   "source": [
    "df_errors_from_csv = pd.read_csv(\n",
    "    r'1-Data-errors.csv',\n",
    "    parse_dates = ['Date_best','Date_international','Date_USA'],\n",
    "    dayfirst=True # switch to parse as international format\n",
    "    )"
   ]
  },
  {
   "cell_type": "code",
   "execution_count": 144,
   "metadata": {},
   "outputs": [
    {
     "data": {
      "text/html": [
       "<div>\n",
       "<style scoped>\n",
       "    .dataframe tbody tr th:only-of-type {\n",
       "        vertical-align: middle;\n",
       "    }\n",
       "\n",
       "    .dataframe tbody tr th {\n",
       "        vertical-align: top;\n",
       "    }\n",
       "\n",
       "    .dataframe thead th {\n",
       "        text-align: right;\n",
       "    }\n",
       "</style>\n",
       "<table border=\"1\" class=\"dataframe\">\n",
       "  <thead>\n",
       "    <tr style=\"text-align: right;\">\n",
       "      <th></th>\n",
       "      <th>Date_best</th>\n",
       "      <th>Date_international</th>\n",
       "      <th>Date_USA</th>\n",
       "      <th>Data_clean</th>\n",
       "      <th>Data_with_errors</th>\n",
       "      <th>Data_with_null</th>\n",
       "      <th>Header_error</th>\n",
       "      <th>Unnamed: 7</th>\n",
       "    </tr>\n",
       "  </thead>\n",
       "  <tbody>\n",
       "    <tr>\n",
       "      <th>0</th>\n",
       "      <td>2020-06-03</td>\n",
       "      <td>2020-06-03</td>\n",
       "      <td>2020-03-06</td>\n",
       "      <td>3.00</td>\n",
       "      <td>x</td>\n",
       "      <td>3</td>\n",
       "      <td>3.00</td>\n",
       "      <td>NaN</td>\n",
       "    </tr>\n",
       "    <tr>\n",
       "      <th>1</th>\n",
       "      <td>2020-06-04</td>\n",
       "      <td>2020-06-04</td>\n",
       "      <td>2020-04-06</td>\n",
       "      <td>4.30</td>\n",
       "      <td>4.3</td>\n",
       "      <td>4.3</td>\n",
       "      <td>4.30</td>\n",
       "      <td>NaN</td>\n",
       "    </tr>\n",
       "    <tr>\n",
       "      <th>2</th>\n",
       "      <td>2020-07-03</td>\n",
       "      <td>2020-07-03</td>\n",
       "      <td>2020-03-07</td>\n",
       "      <td>3.55</td>\n",
       "      <td>3.55</td>\n",
       "      <td>NaN</td>\n",
       "      <td>3.55</td>\n",
       "      <td>NaN</td>\n",
       "    </tr>\n",
       "    <tr>\n",
       "      <th>3</th>\n",
       "      <td>2020-06-12</td>\n",
       "      <td>2020-06-12</td>\n",
       "      <td>2020-12-06</td>\n",
       "      <td>2.33</td>\n",
       "      <td>2,33</td>\n",
       "      <td>2.33</td>\n",
       "      <td>2.33</td>\n",
       "      <td></td>\n",
       "    </tr>\n",
       "    <tr>\n",
       "      <th>4</th>\n",
       "      <td>2020-04-03</td>\n",
       "      <td>2020-04-03</td>\n",
       "      <td>2020-03-04</td>\n",
       "      <td>94.00</td>\n",
       "      <td>94</td>\n",
       "      <td>na</td>\n",
       "      <td>94.00</td>\n",
       "      <td>NaN</td>\n",
       "    </tr>\n",
       "  </tbody>\n",
       "</table>\n",
       "</div>"
      ],
      "text/plain": [
       "   Date_best Date_international   Date_USA  Data_clean Data_with_errors  \\\n",
       "0 2020-06-03         2020-06-03 2020-03-06        3.00                x   \n",
       "1 2020-06-04         2020-06-04 2020-04-06        4.30              4.3   \n",
       "2 2020-07-03         2020-07-03 2020-03-07        3.55             3.55   \n",
       "3 2020-06-12         2020-06-12 2020-12-06        2.33             2,33   \n",
       "4 2020-04-03         2020-04-03 2020-03-04       94.00               94   \n",
       "\n",
       "  Data_with_null   Header_error Unnamed: 7  \n",
       "0              3           3.00        NaN  \n",
       "1            4.3           4.30        NaN  \n",
       "2            NaN           3.55        NaN  \n",
       "3           2.33           2.33             \n",
       "4             na          94.00        NaN  "
      ]
     },
     "execution_count": 144,
     "metadata": {},
     "output_type": "execute_result"
    }
   ],
   "source": [
    "df_errors_from_csv"
   ]
  },
  {
   "attachments": {},
   "cell_type": "markdown",
   "metadata": {},
   "source": [
    "Note how in all cases the \"Date_best\" format worked. This format saves you and your international collaborators / clients a lot of pain. "
   ]
  },
  {
   "attachments": {},
   "cell_type": "markdown",
   "metadata": {},
   "source": [
    "## Import case study data"
   ]
  },
  {
   "cell_type": "code",
   "execution_count": 152,
   "metadata": {},
   "outputs": [],
   "source": [
    "well_data = pd.read_excel(r'1-Data-case-study.xlsx', sheet_name='ops_data')"
   ]
  },
  {
   "cell_type": "code",
   "execution_count": 153,
   "metadata": {},
   "outputs": [
    {
     "data": {
      "text/html": [
       "<div>\n",
       "<style scoped>\n",
       "    .dataframe tbody tr th:only-of-type {\n",
       "        vertical-align: middle;\n",
       "    }\n",
       "\n",
       "    .dataframe tbody tr th {\n",
       "        vertical-align: top;\n",
       "    }\n",
       "\n",
       "    .dataframe thead th {\n",
       "        text-align: right;\n",
       "    }\n",
       "</style>\n",
       "<table border=\"1\" class=\"dataframe\">\n",
       "  <thead>\n",
       "    <tr style=\"text-align: right;\">\n",
       "      <th></th>\n",
       "      <th>Date_daily</th>\n",
       "      <th>P-1 TMF T/hr</th>\n",
       "      <th>P-2 TMF T/hr</th>\n",
       "      <th>P-3 TMF T/hr</th>\n",
       "      <th>I-1 TMF T/hr RAW</th>\n",
       "      <th>I-1 TMF T/hr</th>\n",
       "      <th>I-2 TMF T/hr</th>\n",
       "    </tr>\n",
       "  </thead>\n",
       "  <tbody>\n",
       "    <tr>\n",
       "      <th>0</th>\n",
       "      <td>1998-01-04</td>\n",
       "      <td>356.058657</td>\n",
       "      <td>NaN</td>\n",
       "      <td>NaN</td>\n",
       "      <td>63.378441</td>\n",
       "      <td>63.378441</td>\n",
       "      <td>253.513764</td>\n",
       "    </tr>\n",
       "    <tr>\n",
       "      <th>1</th>\n",
       "      <td>1998-01-05</td>\n",
       "      <td>363.455202</td>\n",
       "      <td>NaN</td>\n",
       "      <td>NaN</td>\n",
       "      <td>64.695026</td>\n",
       "      <td>64.695026</td>\n",
       "      <td>258.780104</td>\n",
       "    </tr>\n",
       "    <tr>\n",
       "      <th>2</th>\n",
       "      <td>1998-01-06</td>\n",
       "      <td>397.704763</td>\n",
       "      <td>NaN</td>\n",
       "      <td>NaN</td>\n",
       "      <td>70.791448</td>\n",
       "      <td>70.791448</td>\n",
       "      <td>283.165791</td>\n",
       "    </tr>\n",
       "    <tr>\n",
       "      <th>3</th>\n",
       "      <td>1998-01-07</td>\n",
       "      <td>304.797127</td>\n",
       "      <td>NaN</td>\n",
       "      <td>NaN</td>\n",
       "      <td>54.253889</td>\n",
       "      <td>54.253889</td>\n",
       "      <td>217.015554</td>\n",
       "    </tr>\n",
       "    <tr>\n",
       "      <th>4</th>\n",
       "      <td>1998-01-08</td>\n",
       "      <td>302.808081</td>\n",
       "      <td>NaN</td>\n",
       "      <td>NaN</td>\n",
       "      <td>53.899838</td>\n",
       "      <td>53.899838</td>\n",
       "      <td>215.599354</td>\n",
       "    </tr>\n",
       "    <tr>\n",
       "      <th>...</th>\n",
       "      <td>...</td>\n",
       "      <td>...</td>\n",
       "      <td>...</td>\n",
       "      <td>...</td>\n",
       "      <td>...</td>\n",
       "      <td>...</td>\n",
       "      <td>...</td>\n",
       "    </tr>\n",
       "    <tr>\n",
       "      <th>1819</th>\n",
       "      <td>2002-12-28</td>\n",
       "      <td>NaN</td>\n",
       "      <td>NaN</td>\n",
       "      <td>400.373519</td>\n",
       "      <td>71.266486</td>\n",
       "      <td>71.266486</td>\n",
       "      <td>285.065945</td>\n",
       "    </tr>\n",
       "    <tr>\n",
       "      <th>1820</th>\n",
       "      <td>2002-12-29</td>\n",
       "      <td>NaN</td>\n",
       "      <td>NaN</td>\n",
       "      <td>402.687640</td>\n",
       "      <td>71.678400</td>\n",
       "      <td>71.678400</td>\n",
       "      <td>286.713599</td>\n",
       "    </tr>\n",
       "    <tr>\n",
       "      <th>1821</th>\n",
       "      <td>2002-12-30</td>\n",
       "      <td>NaN</td>\n",
       "      <td>NaN</td>\n",
       "      <td>400.151861</td>\n",
       "      <td>71.227031</td>\n",
       "      <td>71.227031</td>\n",
       "      <td>284.908125</td>\n",
       "    </tr>\n",
       "    <tr>\n",
       "      <th>1822</th>\n",
       "      <td>2002-12-31</td>\n",
       "      <td>NaN</td>\n",
       "      <td>NaN</td>\n",
       "      <td>399.515955</td>\n",
       "      <td>71.113840</td>\n",
       "      <td>71.113840</td>\n",
       "      <td>284.455360</td>\n",
       "    </tr>\n",
       "    <tr>\n",
       "      <th>1823</th>\n",
       "      <td>2003-01-01</td>\n",
       "      <td>NaN</td>\n",
       "      <td>NaN</td>\n",
       "      <td>399.951082</td>\n",
       "      <td>71.191293</td>\n",
       "      <td>71.191293</td>\n",
       "      <td>284.765170</td>\n",
       "    </tr>\n",
       "  </tbody>\n",
       "</table>\n",
       "<p>1824 rows × 7 columns</p>\n",
       "</div>"
      ],
      "text/plain": [
       "     Date_daily  P-1 TMF T/hr  P-2 TMF T/hr  P-3 TMF T/hr  I-1 TMF T/hr RAW  \\\n",
       "0    1998-01-04    356.058657           NaN           NaN         63.378441   \n",
       "1    1998-01-05    363.455202           NaN           NaN         64.695026   \n",
       "2    1998-01-06    397.704763           NaN           NaN         70.791448   \n",
       "3    1998-01-07    304.797127           NaN           NaN         54.253889   \n",
       "4    1998-01-08    302.808081           NaN           NaN         53.899838   \n",
       "...         ...           ...           ...           ...               ...   \n",
       "1819 2002-12-28           NaN           NaN    400.373519         71.266486   \n",
       "1820 2002-12-29           NaN           NaN    402.687640         71.678400   \n",
       "1821 2002-12-30           NaN           NaN    400.151861         71.227031   \n",
       "1822 2002-12-31           NaN           NaN    399.515955         71.113840   \n",
       "1823 2003-01-01           NaN           NaN    399.951082         71.191293   \n",
       "\n",
       "      I-1 TMF T/hr  I-2 TMF T/hr  \n",
       "0        63.378441    253.513764  \n",
       "1        64.695026    258.780104  \n",
       "2        70.791448    283.165791  \n",
       "3        54.253889    217.015554  \n",
       "4        53.899838    215.599354  \n",
       "...            ...           ...  \n",
       "1819     71.266486    285.065945  \n",
       "1820     71.678400    286.713599  \n",
       "1821     71.227031    284.908125  \n",
       "1822     71.113840    284.455360  \n",
       "1823     71.191293    284.765170  \n",
       "\n",
       "[1824 rows x 7 columns]"
      ]
     },
     "execution_count": 153,
     "metadata": {},
     "output_type": "execute_result"
    }
   ],
   "source": [
    "well_data"
   ]
  },
  {
   "attachments": {},
   "cell_type": "markdown",
   "metadata": {},
   "source": [
    "**Syntax of plot()**\n",
    "\n",
    "DataFrame.plot(x=None, y=None, **kwds)"
   ]
  },
  {
   "cell_type": "code",
   "execution_count": 154,
   "metadata": {},
   "outputs": [
    {
     "data": {
      "text/plain": [
       "<AxesSubplot: xlabel='Date_daily'>"
      ]
     },
     "execution_count": 154,
     "metadata": {},
     "output_type": "execute_result"
    },
    {
     "data": {
      "image/png": "[encoded data removed]",
      "text/plain": [
       "<Figure size 640x480 with 1 Axes>"
      ]
     },
     "metadata": {},
     "output_type": "display_data"
    }
   ],
   "source": [
    "well_data.plot(\n",
    "    x='Date_daily',\n",
    "    #marker='.',\n",
    "    linewidth=0.5\n",
    "    )\n",
    "\n",
    "#well_data.plot.scatter(x='Date_daily')"
   ]
  },
  {
   "cell_type": "code",
   "execution_count": 155,
   "metadata": {},
   "outputs": [
    {
     "data": {
      "text/plain": [
       "Index(['Date_daily', 'P-1 TMF T/hr', 'P-2 TMF T/hr', 'P-3 TMF T/hr',\n",
       "       'I-1 TMF T/hr RAW', 'I-1 TMF T/hr', 'I-2 TMF T/hr'],\n",
       "      dtype='object')"
      ]
     },
     "execution_count": 155,
     "metadata": {},
     "output_type": "execute_result"
    }
   ],
   "source": [
    "well_data.columns"
   ]
  },
  {
   "cell_type": "code",
   "execution_count": 156,
   "metadata": {},
   "outputs": [],
   "source": [
    "well_data['Total_prod_tph'] = well_data['P-1 TMF T/hr'].fillna(0) + well_data['P-2 TMF T/hr'].fillna(0) + well_data['P-3 TMF T/hr'].fillna(0)\n",
    "well_data['Total_inj_tph'] = well_data['I-1 TMF T/hr'].fillna(0) + well_data['I-2 TMF T/hr'].fillna(0)\n"
   ]
  },
  {
   "cell_type": "code",
   "execution_count": 157,
   "metadata": {},
   "outputs": [
    {
     "data": {
      "text/html": [
       "<div>\n",
       "<style scoped>\n",
       "    .dataframe tbody tr th:only-of-type {\n",
       "        vertical-align: middle;\n",
       "    }\n",
       "\n",
       "    .dataframe tbody tr th {\n",
       "        vertical-align: top;\n",
       "    }\n",
       "\n",
       "    .dataframe thead th {\n",
       "        text-align: right;\n",
       "    }\n",
       "</style>\n",
       "<table border=\"1\" class=\"dataframe\">\n",
       "  <thead>\n",
       "    <tr style=\"text-align: right;\">\n",
       "      <th></th>\n",
       "      <th>Date_daily</th>\n",
       "      <th>P-1 TMF T/hr</th>\n",
       "      <th>P-2 TMF T/hr</th>\n",
       "      <th>P-3 TMF T/hr</th>\n",
       "      <th>I-1 TMF T/hr RAW</th>\n",
       "      <th>I-1 TMF T/hr</th>\n",
       "      <th>I-2 TMF T/hr</th>\n",
       "      <th>Total_prod_tph</th>\n",
       "      <th>Total_inj_tph</th>\n",
       "    </tr>\n",
       "  </thead>\n",
       "  <tbody>\n",
       "    <tr>\n",
       "      <th>0</th>\n",
       "      <td>1998-01-04</td>\n",
       "      <td>356.058657</td>\n",
       "      <td>NaN</td>\n",
       "      <td>NaN</td>\n",
       "      <td>63.378441</td>\n",
       "      <td>63.378441</td>\n",
       "      <td>253.513764</td>\n",
       "      <td>356.058657</td>\n",
       "      <td>316.892205</td>\n",
       "    </tr>\n",
       "    <tr>\n",
       "      <th>1</th>\n",
       "      <td>1998-01-05</td>\n",
       "      <td>363.455202</td>\n",
       "      <td>NaN</td>\n",
       "      <td>NaN</td>\n",
       "      <td>64.695026</td>\n",
       "      <td>64.695026</td>\n",
       "      <td>258.780104</td>\n",
       "      <td>363.455202</td>\n",
       "      <td>323.475129</td>\n",
       "    </tr>\n",
       "    <tr>\n",
       "      <th>2</th>\n",
       "      <td>1998-01-06</td>\n",
       "      <td>397.704763</td>\n",
       "      <td>NaN</td>\n",
       "      <td>NaN</td>\n",
       "      <td>70.791448</td>\n",
       "      <td>70.791448</td>\n",
       "      <td>283.165791</td>\n",
       "      <td>397.704763</td>\n",
       "      <td>353.957239</td>\n",
       "    </tr>\n",
       "    <tr>\n",
       "      <th>3</th>\n",
       "      <td>1998-01-07</td>\n",
       "      <td>304.797127</td>\n",
       "      <td>NaN</td>\n",
       "      <td>NaN</td>\n",
       "      <td>54.253889</td>\n",
       "      <td>54.253889</td>\n",
       "      <td>217.015554</td>\n",
       "      <td>304.797127</td>\n",
       "      <td>271.269443</td>\n",
       "    </tr>\n",
       "    <tr>\n",
       "      <th>4</th>\n",
       "      <td>1998-01-08</td>\n",
       "      <td>302.808081</td>\n",
       "      <td>NaN</td>\n",
       "      <td>NaN</td>\n",
       "      <td>53.899838</td>\n",
       "      <td>53.899838</td>\n",
       "      <td>215.599354</td>\n",
       "      <td>302.808081</td>\n",
       "      <td>269.499192</td>\n",
       "    </tr>\n",
       "    <tr>\n",
       "      <th>...</th>\n",
       "      <td>...</td>\n",
       "      <td>...</td>\n",
       "      <td>...</td>\n",
       "      <td>...</td>\n",
       "      <td>...</td>\n",
       "      <td>...</td>\n",
       "      <td>...</td>\n",
       "      <td>...</td>\n",
       "      <td>...</td>\n",
       "    </tr>\n",
       "    <tr>\n",
       "      <th>1819</th>\n",
       "      <td>2002-12-28</td>\n",
       "      <td>NaN</td>\n",
       "      <td>NaN</td>\n",
       "      <td>400.373519</td>\n",
       "      <td>71.266486</td>\n",
       "      <td>71.266486</td>\n",
       "      <td>285.065945</td>\n",
       "      <td>400.373519</td>\n",
       "      <td>356.332432</td>\n",
       "    </tr>\n",
       "    <tr>\n",
       "      <th>1820</th>\n",
       "      <td>2002-12-29</td>\n",
       "      <td>NaN</td>\n",
       "      <td>NaN</td>\n",
       "      <td>402.687640</td>\n",
       "      <td>71.678400</td>\n",
       "      <td>71.678400</td>\n",
       "      <td>286.713599</td>\n",
       "      <td>402.687640</td>\n",
       "      <td>358.391999</td>\n",
       "    </tr>\n",
       "    <tr>\n",
       "      <th>1821</th>\n",
       "      <td>2002-12-30</td>\n",
       "      <td>NaN</td>\n",
       "      <td>NaN</td>\n",
       "      <td>400.151861</td>\n",
       "      <td>71.227031</td>\n",
       "      <td>71.227031</td>\n",
       "      <td>284.908125</td>\n",
       "      <td>400.151861</td>\n",
       "      <td>356.135157</td>\n",
       "    </tr>\n",
       "    <tr>\n",
       "      <th>1822</th>\n",
       "      <td>2002-12-31</td>\n",
       "      <td>NaN</td>\n",
       "      <td>NaN</td>\n",
       "      <td>399.515955</td>\n",
       "      <td>71.113840</td>\n",
       "      <td>71.113840</td>\n",
       "      <td>284.455360</td>\n",
       "      <td>399.515955</td>\n",
       "      <td>355.569200</td>\n",
       "    </tr>\n",
       "    <tr>\n",
       "      <th>1823</th>\n",
       "      <td>2003-01-01</td>\n",
       "      <td>NaN</td>\n",
       "      <td>NaN</td>\n",
       "      <td>399.951082</td>\n",
       "      <td>71.191293</td>\n",
       "      <td>71.191293</td>\n",
       "      <td>284.765170</td>\n",
       "      <td>399.951082</td>\n",
       "      <td>355.956463</td>\n",
       "    </tr>\n",
       "  </tbody>\n",
       "</table>\n",
       "<p>1824 rows × 9 columns</p>\n",
       "</div>"
      ],
      "text/plain": [
       "     Date_daily  P-1 TMF T/hr  P-2 TMF T/hr  P-3 TMF T/hr  I-1 TMF T/hr RAW  \\\n",
       "0    1998-01-04    356.058657           NaN           NaN         63.378441   \n",
       "1    1998-01-05    363.455202           NaN           NaN         64.695026   \n",
       "2    1998-01-06    397.704763           NaN           NaN         70.791448   \n",
       "3    1998-01-07    304.797127           NaN           NaN         54.253889   \n",
       "4    1998-01-08    302.808081           NaN           NaN         53.899838   \n",
       "...         ...           ...           ...           ...               ...   \n",
       "1819 2002-12-28           NaN           NaN    400.373519         71.266486   \n",
       "1820 2002-12-29           NaN           NaN    402.687640         71.678400   \n",
       "1821 2002-12-30           NaN           NaN    400.151861         71.227031   \n",
       "1822 2002-12-31           NaN           NaN    399.515955         71.113840   \n",
       "1823 2003-01-01           NaN           NaN    399.951082         71.191293   \n",
       "\n",
       "      I-1 TMF T/hr  I-2 TMF T/hr  Total_prod_tph  Total_inj_tph  \n",
       "0        63.378441    253.513764      356.058657     316.892205  \n",
       "1        64.695026    258.780104      363.455202     323.475129  \n",
       "2        70.791448    283.165791      397.704763     353.957239  \n",
       "3        54.253889    217.015554      304.797127     271.269443  \n",
       "4        53.899838    215.599354      302.808081     269.499192  \n",
       "...            ...           ...             ...            ...  \n",
       "1819     71.266486    285.065945      400.373519     356.332432  \n",
       "1820     71.678400    286.713599      402.687640     358.391999  \n",
       "1821     71.227031    284.908125      400.151861     356.135157  \n",
       "1822     71.113840    284.455360      399.515955     355.569200  \n",
       "1823     71.191293    284.765170      399.951082     355.956463  \n",
       "\n",
       "[1824 rows x 9 columns]"
      ]
     },
     "execution_count": 157,
     "metadata": {},
     "output_type": "execute_result"
    }
   ],
   "source": [
    "well_data"
   ]
  },
  {
   "cell_type": "code",
   "execution_count": 158,
   "metadata": {},
   "outputs": [
    {
     "data": {
      "text/plain": [
       "<AxesSubplot: xlabel='Date_daily'>"
      ]
     },
     "execution_count": 158,
     "metadata": {},
     "output_type": "execute_result"
    },
    {
     "data": {
      "image/png": "[encoded data removed]",
      "text/plain": [
       "<Figure size 640x480 with 1 Axes>"
      ]
     },
     "metadata": {},
     "output_type": "display_data"
    }
   ],
   "source": [
    "well_data.plot(\n",
    "    x='Date_daily', \n",
    "    y=['Total_prod_tph','Total_inj_tph'],\n",
    "    linewidth=0.5\n",
    "    )\n"
   ]
  },
  {
   "cell_type": "code",
   "execution_count": null,
   "metadata": {},
   "outputs": [],
   "source": []
  },
  {
   "cell_type": "code",
   "execution_count": null,
   "metadata": {},
   "outputs": [],
   "source": []
  }
 ],
 "metadata": {
  "kernelspec": {
   "display_name": "base",
   "language": "python",
   "name": "python3"
  },
  "language_info": {
   "codemirror_mode": {
    "name": "ipython",
    "version": 3
   },
   "file_extension": ".py",
   "mimetype": "text/x-python",
   "name": "python",
   "nbconvert_exporter": "python",
   "pygments_lexer": "ipython3",
   "version": "3.8.8"
  },
  "orig_nbformat": 4,
  "vscode": {
   "interpreter": {
    "hash": "c268d92783217d0a189fd0f6bc72a35770f06191246a63de0fd4bf64fa0bf04a"
   }
  }
 },
 "nbformat": 4,
 "nbformat_minor": 2
}
