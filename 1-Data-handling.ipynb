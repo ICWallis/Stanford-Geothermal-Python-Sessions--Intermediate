{
 "cells": [
  {
   "attachments": {},
   "cell_type": "markdown",
   "metadata": {},
   "source": [
    "- Advanced Pandas args to catch errors in data files\n",
    "- Datetime hell (excel vs txt files)\n",
    "- Pandas quick plots and stats\n",
    "- Sum columns (header hygiene, . vs [])\n",
    "- Volume to mass flow\n",
    "- Averaging data \n",
    "- Static plot (matplotlib) and dynamic plot (Plotly)\n",
    "\n",
    "\n",
    "- Mass-ballance (data handling in Pandas, volume flow to mass flow, sum seps)\n",
    "- Pandas and numpy in computer memory and .copy() pointers vs copies\n",
    "- Clean steamfield data (when to excel and when to Python)\n"
   ]
  },
  {
   "cell_type": "markdown",
   "metadata": {},
   "source": []
  }
 ],
 "metadata": {
  "language_info": {
   "name": "python"
  },
  "orig_nbformat": 4
 },
 "nbformat": 4,
 "nbformat_minor": 2
}
