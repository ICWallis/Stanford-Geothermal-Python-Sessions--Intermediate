{
 "cells": [
  {
   "cell_type": "markdown",
   "metadata": {},
   "source": [
    "# Data Handling with Pandas"
   ]
  },
  {
   "cell_type": "code",
   "execution_count": null,
   "metadata": {},
   "outputs": [],
   "source": [
    "import pandas as pd\n",
    "import matplotlib.pyplot as plt"
   ]
  },
  {
   "cell_type": "markdown",
   "metadata": {},
   "source": [
    "## Handle import errors\n",
    "\n",
    "Use the excel file '1-Data-errors.xlsx' to explore common data/datetime handling errors.\n",
    "\n",
    "Practical = knowing when to python and when not to python."
   ]
  },
  {
   "cell_type": "code",
   "execution_count": null,
   "metadata": {},
   "outputs": [],
   "source": [
    "error_df = pd.read_excel(\n",
    "    r'1-Data-errors.xlsx', \n",
    "    sheet_name='Sheet1',\n",
    "    #header=1, # removes row 0, makes row 1 the headder\n",
    "    #na_values=['na', '', ' '] # replaces value with NaN\n",
    "    )"
   ]
  },
  {
   "cell_type": "code",
   "execution_count": null,
   "metadata": {},
   "outputs": [],
   "source": [
    "error_df"
   ]
  },
  {
   "cell_type": "code",
   "execution_count": null,
   "metadata": {},
   "outputs": [],
   "source": [
    "error_df.info()"
   ]
  },
  {
   "cell_type": "code",
   "execution_count": null,
   "metadata": {},
   "outputs": [],
   "source": [
    "# Find the offending value\n",
    "\n",
    "test_col = error_df['Data_with_errors'].values\n",
    "\n",
    "for value in test_col:\n",
    "    try:\n",
    "        float(value)\n",
    "    except:\n",
    "        print(value)\n",
    "\n",
    "# Go back to excel and CTRL + F for the offending value"
   ]
  },
  {
   "cell_type": "code",
   "execution_count": null,
   "metadata": {},
   "outputs": [],
   "source": [
    "print(error_df['Data_clean']) # This works"
   ]
  },
  {
   "cell_type": "code",
   "execution_count": null,
   "metadata": {},
   "outputs": [],
   "source": [
    "#print(error_df('Header_error')) # But this does not... why?"
   ]
  },
  {
   "cell_type": "code",
   "execution_count": null,
   "metadata": {},
   "outputs": [],
   "source": [
    "# import same data as csv and look at the datetime\n"
   ]
  },
  {
   "cell_type": "code",
   "execution_count": null,
   "metadata": {},
   "outputs": [],
   "source": [
    "df_errors_from_csv = pd.read_csv(r'1-Data-errors.csv')"
   ]
  },
  {
   "cell_type": "code",
   "execution_count": null,
   "metadata": {},
   "outputs": [],
   "source": [
    "df_errors_from_csv"
   ]
  },
  {
   "cell_type": "code",
   "execution_count": null,
   "metadata": {},
   "outputs": [],
   "source": [
    "df_errors_from_csv.info()"
   ]
  },
  {
   "cell_type": "markdown",
   "metadata": {},
   "source": [
    "Useful blog post https://towardsdatascience.com/4-tricks-you-should-know-to-parse-date-columns-with-pandas-read-csv-27355bb2ad0e"
   ]
  },
  {
   "cell_type": "code",
   "execution_count": null,
   "metadata": {},
   "outputs": [],
   "source": [
    "df_errors_from_csv = pd.read_csv(\n",
    "    r'1-Data-errors.csv',\n",
    "    parse_dates = ['Date_best','Date_international','Date_USA'] # default is to parse as US format\n",
    "    )"
   ]
  },
  {
   "cell_type": "code",
   "execution_count": null,
   "metadata": {},
   "outputs": [],
   "source": [
    "df_errors_from_csv"
   ]
  },
  {
   "cell_type": "code",
   "execution_count": null,
   "metadata": {},
   "outputs": [],
   "source": [
    "df_errors_from_csv = pd.read_csv(\n",
    "    r'1-Data-errors.csv',\n",
    "    parse_dates = ['Date_best','Date_international','Date_USA'],\n",
    "    dayfirst=True # switch to parse as international format\n",
    "    )"
   ]
  },
  {
   "cell_type": "code",
   "execution_count": null,
   "metadata": {},
   "outputs": [],
   "source": [
    "df_errors_from_csv"
   ]
  },
  {
   "cell_type": "markdown",
   "metadata": {},
   "source": [
    "Note how in all cases the \"Date_best\" format worked. This format saves you and your international collaborators / clients a lot of pain. "
   ]
  },
  {
   "cell_type": "markdown",
   "metadata": {},
   "source": [
    "## Import case study data"
   ]
  },
  {
   "cell_type": "code",
   "execution_count": null,
   "metadata": {},
   "outputs": [],
   "source": [
    "well_data = pd.read_excel(r'1-Data-case-study.xlsx', sheet_name='ops_data')"
   ]
  },
  {
   "cell_type": "code",
   "execution_count": null,
   "metadata": {},
   "outputs": [],
   "source": [
    "well_data.info()"
   ]
  },
  {
   "cell_type": "markdown",
   "metadata": {},
   "source": [
    "## Quick-plot data using Pandas\n",
    "\n",
    "**Syntax of plot()**\n",
    "\n",
    "DataFrame.plot(x=None, y=None, **kwargs)"
   ]
  },
  {
   "cell_type": "code",
   "execution_count": null,
   "metadata": {},
   "outputs": [],
   "source": [
    "well_data.plot(\n",
    "    #x='Date',\n",
    "    )"
   ]
  },
  {
   "cell_type": "code",
   "execution_count": null,
   "metadata": {},
   "outputs": [],
   "source": [
    "#well_data.plot.scatter(x='Date_daily')\n",
    "\n",
    "well_data.plot(\n",
    "    x='Date',\n",
    "    marker='.',\n",
    "    markersize=2,\n",
    "    linewidth=0.1,\n",
    "    )"
   ]
  },
  {
   "cell_type": "code",
   "execution_count": null,
   "metadata": {},
   "outputs": [],
   "source": [
    "well_data.columns"
   ]
  },
  {
   "cell_type": "code",
   "execution_count": null,
   "metadata": {},
   "outputs": [],
   "source": [
    "well_data.plot(\n",
    "    x='Date',\n",
    "    y=['I-2 TMF T/hr'],\n",
    "    marker='.',\n",
    "    markersize=2,\n",
    "    linewidth=0.1,\n",
    "    )\n",
    "\n",
    "# Add grid, google kwargs"
   ]
  },
  {
   "cell_type": "markdown",
   "metadata": {},
   "source": [
    "## Calculate values\n",
    "\n",
    "Calculations can be done row-wise using the column names"
   ]
  },
  {
   "cell_type": "code",
   "execution_count": null,
   "metadata": {},
   "outputs": [],
   "source": [
    "data = [10,20,30]\n",
    "df = pd.DataFrame(data, columns=['x'])\n",
    "df"
   ]
  },
  {
   "cell_type": "code",
   "execution_count": null,
   "metadata": {},
   "outputs": [],
   "source": [
    "df['x + 10'] = df['x'] + 10\n",
    "df"
   ]
  },
  {
   "cell_type": "markdown",
   "metadata": {},
   "source": [
    "When doing calculations there must be values in the cells (i.e., no NaN)"
   ]
  },
  {
   "cell_type": "code",
   "execution_count": null,
   "metadata": {},
   "outputs": [],
   "source": [
    "well_data['Total_prod_tph'] = well_data['P-1 TMF T/hr'].fillna(0) + well_data['P-2 TMF T/hr'].fillna(0) + well_data['P-3 TMF T/hr'].fillna(0)\n",
    "\n",
    "well_data['Total_inj_tph'] = well_data['I-1 TMF T/hr'].fillna(0) + well_data['I-2 TMF T/hr'].fillna(0)"
   ]
  },
  {
   "cell_type": "code",
   "execution_count": null,
   "metadata": {},
   "outputs": [],
   "source": [
    "well_data.plot(\n",
    "    x='Date', \n",
    "    y=['Total_prod_tph','Total_inj_tph'],\n",
    "    linewidth=0.5\n",
    "    )\n"
   ]
  },
  {
   "cell_type": "markdown",
   "metadata": {},
   "source": [
    "## Averaging by time period\n",
    "\n",
    "https://pandas.pydata.org/docs/reference/api/pandas.DataFrame.resample.html\n",
    "\n",
    "- D : daily\n",
    "- W : weekly\n",
    "- M : month end \n",
    "- SM : semi-month end (15th and end of month)\n",
    "- Q : quarter end"
   ]
  },
  {
   "cell_type": "code",
   "execution_count": null,
   "metadata": {},
   "outputs": [],
   "source": [
    "\n",
    "# Reassign to new object and set date the index\n",
    "well_data_weekly_ave = well_data.set_index('Date')\n",
    "\n",
    "# Resample (average) on weekly frequency\n",
    "well_data_weekly_ave = well_data_weekly_ave.resample('W').mean() \n",
    "\n",
    "# Return the date index to be a column\n",
    "well_data_weekly_ave.reset_index(inplace=True) # \"inplace=True\" instead of re-assignment \n",
    "\n",
    "display(well_data_weekly_ave.tail(3))"
   ]
  },
  {
   "cell_type": "code",
   "execution_count": null,
   "metadata": {},
   "outputs": [],
   "source": [
    "fig, ax = plt.subplots(1,1,figsize=(10,4))\n",
    "\n",
    "ax.scatter(\n",
    "    well_data['Date'].values,\n",
    "    well_data['Total_inj_tph'].values,\n",
    "    s = 15,\n",
    "    label = 'Daily total injection'\n",
    ")\n",
    "\n",
    "ax.scatter(\n",
    "    well_data_weekly_ave['Date'].values,\n",
    "    well_data_weekly_ave['Total_inj_tph'].values,\n",
    "    s = 15,\n",
    "    label = 'Weekly total injection'\n",
    ")\n",
    "\n",
    "ax.legend()\n",
    "ax.set_ylabel('TMF [T/hr]')\n"
   ]
  },
  {
   "cell_type": "markdown",
   "metadata": {},
   "source": [
    "## Filter data\n",
    "\n",
    "Make a new dataframe that meets a criteria\n",
    "\n",
    "Select subset of columns:\n",
    "    \n",
    "    new_df = old_df[list of new cols] "
   ]
  },
  {
   "cell_type": "code",
   "execution_count": null,
   "metadata": {},
   "outputs": [],
   "source": [
    "total_production = well_data_weekly_ave[['Date', 'Total_prod_tph']]\n",
    "\n",
    "total_production.info()"
   ]
  },
  {
   "cell_type": "code",
   "execution_count": null,
   "metadata": {},
   "outputs": [],
   "source": [
    "total_production['Exp_inj_TPH'] = total_production.Total_prod_tph * 0.85"
   ]
  },
  {
   "cell_type": "markdown",
   "metadata": {},
   "source": [
    "Select all columns based on a criteria:\n",
    "\n",
    "    new_df = old_df[boolean statement]"
   ]
  },
  {
   "cell_type": "code",
   "execution_count": null,
   "metadata": {},
   "outputs": [],
   "source": [
    "low_total_production = total_production[total_production['Total_prod_tph'] < 300] # whats missing from here?"
   ]
  },
  {
   "cell_type": "code",
   "execution_count": null,
   "metadata": {},
   "outputs": [],
   "source": [
    "low_total_production['Exp_inj_TPH'] = low_total_production.Total_prod_tph * 0.85"
   ]
  },
  {
   "cell_type": "markdown",
   "metadata": {},
   "source": [
    "## Export results"
   ]
  },
  {
   "cell_type": "code",
   "execution_count": null,
   "metadata": {},
   "outputs": [],
   "source": [
    "well_data_weekly_ave.to_csv('1-Data-weekly.csv', index=False)\n",
    "#well_data_weekly_ave.to_excel('1-Data-weekly.xlsx', index=False)"
   ]
  },
  {
   "cell_type": "code",
   "execution_count": null,
   "metadata": {},
   "outputs": [],
   "source": []
  }
 ],
 "metadata": {
  "kernelspec": {
   "display_name": "sgw_env_int",
   "language": "python",
   "name": "python3"
  },
  "language_info": {
   "codemirror_mode": {
    "name": "ipython",
    "version": 3
   },
   "file_extension": ".py",
   "mimetype": "text/x-python",
   "name": "python",
   "nbconvert_exporter": "python",
   "pygments_lexer": "ipython3",
   "version": "3.9.15"
  },
  "vscode": {
   "interpreter": {
    "hash": "28e95de71bbcf09c1444ff7d54651fdf8c668d7cd239aea4b3daa2d866405411"
   }
  }
 },
 "nbformat": 4,
 "nbformat_minor": 4
}
