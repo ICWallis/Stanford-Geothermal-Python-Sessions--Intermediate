{
 "cells": [
  {
   "attachments": {},
   "cell_type": "markdown",
   "metadata": {},
   "source": [
    "# Steam Tables\n",
    "\n",
    "Two packages:\n",
    "- IAPWS (license = GNU, which limits uses) https://pypi.org/project/iapws/\n",
    "- Chemicals (license = MIT, which is a more open license and therefore preferred) https://chemicals.readthedocs.io/\n",
    "\n",
    "The chemicals package uses SI units...  \n",
    "\n",
    "so pressure is in Pascals (Pa)\n",
    "- 1.e6 Pa = 1 Mega Pascal (MPa)\n",
    "- 1.e5 Pa = 1 bar\n",
    "\n",
    "and temperature is Kelvin\n",
    "- Degrees celsius = Kelvin - 273.15\n",
    "\n",
    "Ensure that pressure is absolute not gauge. \n",
    "\n",
    "Data used in this notebooks comes from https://github.com/ICWallis/T21-Tutorial-WellTestAnalysis"
   ]
  },
  {
   "cell_type": "code",
   "execution_count": 17,
   "metadata": {},
   "outputs": [],
   "source": [
    "from chemicals import iapws\n",
    "import pandas as pd\n",
    "import matplotlib.pyplot as plt"
   ]
  },
  {
   "cell_type": "code",
   "execution_count": 3,
   "metadata": {},
   "outputs": [
    {
     "name": "stdout",
     "output_type": "stream",
     "text": [
      "233.85\n"
     ]
    }
   ],
   "source": [
    "# What is the saturation temperature for 30 bara?\n",
    "\n",
    "P_Pa = 30.e5\n",
    "Tsat_C = iapws.iapws95_Tsat(P_Pa) - 273.15 # convert from K to C\n",
    "print(round(Tsat_C,2))"
   ]
  },
  {
   "cell_type": "code",
   "execution_count": 4,
   "metadata": {},
   "outputs": [
    {
     "name": "stdout",
     "output_type": "stream",
     "text": [
      "1.01\n"
     ]
    }
   ],
   "source": [
    "# What is the saturation pressure for 100 degC?\n",
    "\n",
    "Temp_C = 100\n",
    "T_K = Temp_C + 273.15 # convert from C to K\n",
    "Psat_bar = iapws.iapws95_Psat(T_K) / 1.e5 # convert from Pa to bar\n",
    "\n",
    "print(round(Psat_bar,2))"
   ]
  },
  {
   "cell_type": "code",
   "execution_count": 5,
   "metadata": {},
   "outputs": [
    {
     "name": "stdout",
     "output_type": "stream",
     "text": [
      "(821.9048374286575, 1004679.8969504833, 2645.519725645341, 1008329.9545525113, 3203.5551231146037, 4718.563187257297, 1213.0965739548726, -3.1764983850030324e-08, 0.00014988508343857532, 2.260859379365764e-07, 1.0008910862877812e-06)\n",
      "1008.33 821.9\n"
     ]
    }
   ],
   "source": [
    "# For a given temperature - pressure pair, calculate fluid properties enthalpy and density\n",
    "\n",
    "T_K = 233.85 + 273.15\n",
    "P_Pa = 30.e5\n",
    "\n",
    "properties = iapws.iapws95_properties(T=T_K, P=P_Pa)\n",
    "\n",
    "print(properties)\n",
    "\n",
    "H_kJpkg = properties[3] * 1.e-3 # convert J/kg to kJ/kg\n",
    "density = properties[0] # kg/m3\n",
    "\n",
    "print(round(H_kJpkg,2), round(density,2))"
   ]
  },
  {
   "attachments": {},
   "cell_type": "markdown",
   "metadata": {},
   "source": [
    "The fluid properties function returns a tuple and the method above slices out the values we want. \n",
    "\n",
    "Refer to the docs for the tuple definition: \n",
    "https://chemicals.readthedocs.io/chemicals.iapws.html#iapws-95-properties"
   ]
  },
  {
   "attachments": {},
   "cell_type": "markdown",
   "metadata": {},
   "source": [
    "## Calculate the BPD for a static temperature profile"
   ]
  },
  {
   "cell_type": "code",
   "execution_count": 6,
   "metadata": {},
   "outputs": [],
   "source": [
    "data = pd.read_csv('3-Static-PT.csv')"
   ]
  },
  {
   "cell_type": "code",
   "execution_count": 7,
   "metadata": {},
   "outputs": [
    {
     "name": "stdout",
     "output_type": "stream",
     "text": [
      "<class 'pandas.core.frame.DataFrame'>\n",
      "RangeIndex: 94 entries, 0 to 93\n",
      "Data columns (total 4 columns):\n",
      " #   Column     Non-Null Count  Dtype  \n",
      "---  ------     --------------  -----  \n",
      " 0   depth_m    94 non-null     float64\n",
      " 1   whp_barg   94 non-null     float64\n",
      " 2   pres_barg  94 non-null     float64\n",
      " 3   temp_degC  94 non-null     float64\n",
      "dtypes: float64(4)\n",
      "memory usage: 3.1 KB\n"
     ]
    }
   ],
   "source": [
    "data.info()"
   ]
  },
  {
   "cell_type": "code",
   "execution_count": null,
   "metadata": {},
   "outputs": [],
   "source": []
  },
  {
   "cell_type": "code",
   "execution_count": 11,
   "metadata": {},
   "outputs": [],
   "source": [
    "data['pres_Pa'] = (data.pres_barg + 1) * 1.e5"
   ]
  },
  {
   "cell_type": "code",
   "execution_count": 12,
   "metadata": {},
   "outputs": [
    {
     "data": {
      "text/html": [
       "<div>\n",
       "<style scoped>\n",
       "    .dataframe tbody tr th:only-of-type {\n",
       "        vertical-align: middle;\n",
       "    }\n",
       "\n",
       "    .dataframe tbody tr th {\n",
       "        vertical-align: top;\n",
       "    }\n",
       "\n",
       "    .dataframe thead th {\n",
       "        text-align: right;\n",
       "    }\n",
       "</style>\n",
       "<table border=\"1\" class=\"dataframe\">\n",
       "  <thead>\n",
       "    <tr style=\"text-align: right;\">\n",
       "      <th></th>\n",
       "      <th>depth_m</th>\n",
       "      <th>whp_barg</th>\n",
       "      <th>pres_barg</th>\n",
       "      <th>temp_degC</th>\n",
       "      <th>pres_bara</th>\n",
       "      <th>pres_Pa</th>\n",
       "    </tr>\n",
       "  </thead>\n",
       "  <tbody>\n",
       "    <tr>\n",
       "      <th>0</th>\n",
       "      <td>0.0</td>\n",
       "      <td>4.019268</td>\n",
       "      <td>3.929268</td>\n",
       "      <td>10.48</td>\n",
       "      <td>4.929268</td>\n",
       "      <td>492926.773131</td>\n",
       "    </tr>\n",
       "    <tr>\n",
       "      <th>1</th>\n",
       "      <td>10.5</td>\n",
       "      <td>4.019268</td>\n",
       "      <td>3.929268</td>\n",
       "      <td>10.86</td>\n",
       "      <td>4.929268</td>\n",
       "      <td>492926.773131</td>\n",
       "    </tr>\n",
       "    <tr>\n",
       "      <th>2</th>\n",
       "      <td>20.7</td>\n",
       "      <td>4.019268</td>\n",
       "      <td>3.929268</td>\n",
       "      <td>11.63</td>\n",
       "      <td>4.929268</td>\n",
       "      <td>492926.773131</td>\n",
       "    </tr>\n",
       "    <tr>\n",
       "      <th>3</th>\n",
       "      <td>30.4</td>\n",
       "      <td>4.019268</td>\n",
       "      <td>3.939268</td>\n",
       "      <td>12.25</td>\n",
       "      <td>4.939268</td>\n",
       "      <td>493926.773131</td>\n",
       "    </tr>\n",
       "    <tr>\n",
       "      <th>4</th>\n",
       "      <td>40.3</td>\n",
       "      <td>4.019268</td>\n",
       "      <td>3.949268</td>\n",
       "      <td>12.77</td>\n",
       "      <td>4.949268</td>\n",
       "      <td>494926.773131</td>\n",
       "    </tr>\n",
       "  </tbody>\n",
       "</table>\n",
       "</div>"
      ],
      "text/plain": [
       "   depth_m  whp_barg  pres_barg  temp_degC  pres_bara        pres_Pa\n",
       "0      0.0  4.019268   3.929268      10.48   4.929268  492926.773131\n",
       "1     10.5  4.019268   3.929268      10.86   4.929268  492926.773131\n",
       "2     20.7  4.019268   3.929268      11.63   4.929268  492926.773131\n",
       "3     30.4  4.019268   3.939268      12.25   4.939268  493926.773131\n",
       "4     40.3  4.019268   3.949268      12.77   4.949268  494926.773131"
      ]
     },
     "execution_count": 12,
     "metadata": {},
     "output_type": "execute_result"
    }
   ],
   "source": [
    "data.head()"
   ]
  },
  {
   "cell_type": "code",
   "execution_count": 14,
   "metadata": {},
   "outputs": [],
   "source": [
    "# assuming pure water, calculate the BPD curve\n",
    "\n",
    "well_Tsat_C = []\n",
    "\n",
    "for val in data.pres_Pa.values:\n",
    "    Tsat_C = iapws.iapws95_Tsat(val) - 273.15\n",
    "    well_Tsat_C.append(Tsat_C)\n",
    "\n",
    "data['Tsat_degC'] = well_Tsat_C"
   ]
  },
  {
   "cell_type": "code",
   "execution_count": 20,
   "metadata": {},
   "outputs": [
    {
     "data": {
      "text/plain": [
       "Index(['depth_m', 'whp_barg', 'pres_barg', 'temp_degC', 'pres_bara', 'pres_Pa',\n",
       "       'Tsat_degC'],\n",
       "      dtype='object')"
      ]
     },
     "execution_count": 20,
     "metadata": {},
     "output_type": "execute_result"
    }
   ],
   "source": [
    "data.columns"
   ]
  },
  {
   "cell_type": "code",
   "execution_count": 25,
   "metadata": {},
   "outputs": [
    {
     "data": {
      "text/plain": [
       "<matplotlib.legend.Legend at 0x1d61e5c5730>"
      ]
     },
     "execution_count": 25,
     "metadata": {},
     "output_type": "execute_result"
    },
    {
     "data": {
      "image/png": "[encoded data removed]",
      "text/plain": [
       "<Figure size 400x400 with 1 Axes>"
      ]
     },
     "metadata": {},
     "output_type": "display_data"
    }
   ],
   "source": [
    "fig, ax = plt.subplots(1,1,figsize = (4,4))\n",
    "\n",
    "ax.plot(\n",
    "    data.temp_degC.values,\n",
    "    data.depth_m.values,\n",
    "    label = 'Measured temp'\n",
    ")\n",
    "\n",
    "ax.plot(\n",
    "    data.Tsat_degC.values,\n",
    "    data.depth_m.values,\n",
    "    label = 'Saturation temp'\n",
    ")\n",
    "\n",
    "ax.set_ylim(1000,0)\n",
    "ax.set_ylabel('Depth [m]')\n",
    "ax.set_xlabel('Temp [$^\\circ$C]') # Latex used to format unit\n",
    "ax.legend()"
   ]
  },
  {
   "attachments": {},
   "cell_type": "markdown",
   "metadata": {},
   "source": [
    "## What if it's not pure water?\n",
    "\n",
    "Work in progress, contributors welcome...\n",
    "\n",
    "https://github.com/Geothermal-Fluids/bpd_curve"
   ]
  },
  {
   "cell_type": "markdown",
   "metadata": {},
   "source": []
  }
 ],
 "metadata": {
  "kernelspec": {
   "display_name": "base",
   "language": "python",
   "name": "python3"
  },
  "language_info": {
   "codemirror_mode": {
    "name": "ipython",
    "version": 3
   },
   "file_extension": ".py",
   "mimetype": "text/x-python",
   "name": "python",
   "nbconvert_exporter": "python",
   "pygments_lexer": "ipython3",
   "version": "3.8.8"
  },
  "orig_nbformat": 4,
  "vscode": {
   "interpreter": {
    "hash": "c268d92783217d0a189fd0f6bc72a35770f06191246a63de0fd4bf64fa0bf04a"
   }
  }
 },
 "nbformat": 4,
 "nbformat_minor": 2
}
