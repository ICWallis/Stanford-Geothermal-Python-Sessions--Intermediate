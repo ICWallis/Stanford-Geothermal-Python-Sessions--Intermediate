{
 "cells": [
  {
   "attachments": {},
   "cell_type": "markdown",
   "metadata": {},
   "source": [
    "# Steam Tables\n",
    "\n",
    "Two packages:\n",
    "- IAPWS (license = GNU, which limits uses) https://pypi.org/project/iapws/\n",
    "- Chemicals (license = MIT, which is a more open license and therefore preferred) https://chemicals.readthedocs.io/\n",
    "\n",
    "The chemicals package uses SI units...  \n",
    "\n",
    "so pressure is in Pascals (Pa)\n",
    "- 1.e6 Pa = 1 Mega Pascal (MPa)\n",
    "- 1.e5 Pa = 1 bar\n",
    "\n",
    "and temperature is Kelvin\n",
    "- Degrees celsius = Kelvin - 273.15\n",
    "\n",
    "Ensure that pressure is absolute not gauge. \n",
    "\n",
    "Data used in this notebooks comes from https://github.com/ICWallis/T21-Tutorial-WellTestAnalysis"
   ]
  },
  {
   "cell_type": "code",
   "execution_count": 1,
   "metadata": {},
   "outputs": [],
   "source": [
    "from chemicals import iapws\n",
    "import pandas as pd"
   ]
  },
  {
   "cell_type": "code",
   "execution_count": 2,
   "metadata": {},
   "outputs": [
    {
     "name": "stdout",
     "output_type": "stream",
     "text": [
      "233.85\n"
     ]
    }
   ],
   "source": [
    "# What is the saturation temperature for 30 bara?\n",
    "\n",
    "P_Pa = 30.e5\n",
    "Tsat_C = iapws.iapws95_Tsat(P_Pa) - 273.15 # convert from K to C\n",
    "print(round(Tsat_C,2))"
   ]
  },
  {
   "cell_type": "code",
   "execution_count": 3,
   "metadata": {},
   "outputs": [
    {
     "name": "stdout",
     "output_type": "stream",
     "text": [
      "1.01\n"
     ]
    }
   ],
   "source": [
    "# What is the saturation pressure for 100 degC?\n",
    "\n",
    "Temp_C = 100\n",
    "T_K = Temp_C + 273.15 # convert from C to K\n",
    "Psat_bar = iapws.iapws95_Psat(T_K) / 1.e5 # convert from Pa to bar\n",
    "\n",
    "print(round(Psat_bar,2))"
   ]
  },
  {
   "cell_type": "code",
   "execution_count": 4,
   "metadata": {},
   "outputs": [
    {
     "name": "stdout",
     "output_type": "stream",
     "text": [
      "(821.9048374286575, 1004679.8969504833, 2645.519725645341, 1008329.9545525113, 3203.5551231146037, 4718.563187257297, 1213.0965739548726, -3.1764983850030324e-08, 0.00014988508343857532, 2.260859379365764e-07, 1.0008910862877812e-06)\n",
      "1008.33 821.9\n"
     ]
    }
   ],
   "source": [
    "# For a given temperature - pressure pair, calculate fluid properties enthalpy and density\n",
    "\n",
    "T_K = 233.85 + 273.15\n",
    "P_Pa = 30.e5\n",
    "\n",
    "properties = iapws.iapws95_properties(T=T_K, P=P_Pa)\n",
    "\n",
    "print(properties)\n",
    "\n",
    "H_kJpkg = properties[3] * 1.e-3 # convert J/kg to kJ/kg\n",
    "density = properties[0] # kg/m3\n",
    "\n",
    "print(round(H_kJpkg,2), round(density,2))"
   ]
  },
  {
   "attachments": {},
   "cell_type": "markdown",
   "metadata": {},
   "source": [
    "The fluid properties function returns a tuple and the method above slices out the values we want. \n",
    "\n",
    "Refer to the docs for the tuple definition: \n",
    "https://chemicals.readthedocs.io/chemicals.iapws.html#iapws-95-properties"
   ]
  },
  {
   "attachments": {},
   "cell_type": "markdown",
   "metadata": {},
   "source": [
    "## Calculate the BPD for a static temperature profile"
   ]
  },
  {
   "cell_type": "code",
   "execution_count": 5,
   "metadata": {},
   "outputs": [],
   "source": [
    "data = pd.read_csv('3-Static-PT.csv')"
   ]
  },
  {
   "cell_type": "code",
   "execution_count": 6,
   "metadata": {},
   "outputs": [
    {
     "name": "stdout",
     "output_type": "stream",
     "text": [
      "<class 'pandas.core.frame.DataFrame'>\n",
      "RangeIndex: 94 entries, 0 to 93\n",
      "Data columns (total 4 columns):\n",
      " #   Column     Non-Null Count  Dtype  \n",
      "---  ------     --------------  -----  \n",
      " 0   depth_m    94 non-null     float64\n",
      " 1   whp_barg   94 non-null     float64\n",
      " 2   pres_barg  94 non-null     float64\n",
      " 3   temp_degC  94 non-null     float64\n",
      "dtypes: float64(4)\n",
      "memory usage: 3.1 KB\n"
     ]
    }
   ],
   "source": [
    "data.info()"
   ]
  },
  {
   "cell_type": "code",
   "execution_count": 7,
   "metadata": {},
   "outputs": [],
   "source": [
    "data['pres_bara'] = data.pres_barg + 1"
   ]
  },
  {
   "cell_type": "code",
   "execution_count": 9,
   "metadata": {},
   "outputs": [
    {
     "data": {
      "text/html": [
       "<div>\n",
       "<style scoped>\n",
       "    .dataframe tbody tr th:only-of-type {\n",
       "        vertical-align: middle;\n",
       "    }\n",
       "\n",
       "    .dataframe tbody tr th {\n",
       "        vertical-align: top;\n",
       "    }\n",
       "\n",
       "    .dataframe thead th {\n",
       "        text-align: right;\n",
       "    }\n",
       "</style>\n",
       "<table border=\"1\" class=\"dataframe\">\n",
       "  <thead>\n",
       "    <tr style=\"text-align: right;\">\n",
       "      <th></th>\n",
       "      <th>depth_m</th>\n",
       "      <th>whp_barg</th>\n",
       "      <th>pres_barg</th>\n",
       "      <th>temp_degC</th>\n",
       "      <th>pres_bara</th>\n",
       "    </tr>\n",
       "  </thead>\n",
       "  <tbody>\n",
       "    <tr>\n",
       "      <th>0</th>\n",
       "      <td>0.0</td>\n",
       "      <td>4.019268</td>\n",
       "      <td>3.929268</td>\n",
       "      <td>10.48</td>\n",
       "      <td>4.929268</td>\n",
       "    </tr>\n",
       "    <tr>\n",
       "      <th>1</th>\n",
       "      <td>10.5</td>\n",
       "      <td>4.019268</td>\n",
       "      <td>3.929268</td>\n",
       "      <td>10.86</td>\n",
       "      <td>4.929268</td>\n",
       "    </tr>\n",
       "    <tr>\n",
       "      <th>2</th>\n",
       "      <td>20.7</td>\n",
       "      <td>4.019268</td>\n",
       "      <td>3.929268</td>\n",
       "      <td>11.63</td>\n",
       "      <td>4.929268</td>\n",
       "    </tr>\n",
       "    <tr>\n",
       "      <th>3</th>\n",
       "      <td>30.4</td>\n",
       "      <td>4.019268</td>\n",
       "      <td>3.939268</td>\n",
       "      <td>12.25</td>\n",
       "      <td>4.939268</td>\n",
       "    </tr>\n",
       "    <tr>\n",
       "      <th>4</th>\n",
       "      <td>40.3</td>\n",
       "      <td>4.019268</td>\n",
       "      <td>3.949268</td>\n",
       "      <td>12.77</td>\n",
       "      <td>4.949268</td>\n",
       "    </tr>\n",
       "  </tbody>\n",
       "</table>\n",
       "</div>"
      ],
      "text/plain": [
       "   depth_m  whp_barg  pres_barg  temp_degC  pres_bara\n",
       "0      0.0  4.019268   3.929268      10.48   4.929268\n",
       "1     10.5  4.019268   3.929268      10.86   4.929268\n",
       "2     20.7  4.019268   3.929268      11.63   4.929268\n",
       "3     30.4  4.019268   3.939268      12.25   4.939268\n",
       "4     40.3  4.019268   3.949268      12.77   4.949268"
      ]
     },
     "execution_count": 9,
     "metadata": {},
     "output_type": "execute_result"
    }
   ],
   "source": [
    "data.head()"
   ]
  },
  {
   "cell_type": "code",
   "execution_count": 11,
   "metadata": {},
   "outputs": [
    {
     "ename": "ValueError",
     "evalue": "The truth value of a Series is ambiguous. Use a.empty, a.bool(), a.item(), a.any() or a.all().",
     "output_type": "error",
     "traceback": [
      "\u001b[1;31m---------------------------------------------------------------------------\u001b[0m",
      "\u001b[1;31mValueError\u001b[0m                                Traceback (most recent call last)",
      "\u001b[1;32m~\\AppData\\Local\\Temp\\ipykernel_38324\\4133466901.py\u001b[0m in \u001b[0;36m<module>\u001b[1;34m\u001b[0m\n\u001b[0;32m      2\u001b[0m \u001b[1;33m\u001b[0m\u001b[0m\n\u001b[0;32m      3\u001b[0m \u001b[1;33m\u001b[0m\u001b[0m\n\u001b[1;32m----> 4\u001b[1;33m \u001b[0mdata\u001b[0m\u001b[1;33m[\u001b[0m\u001b[1;34m'tsat_degC'\u001b[0m\u001b[1;33m]\u001b[0m \u001b[1;33m=\u001b[0m \u001b[1;33m(\u001b[0m\u001b[0miapws\u001b[0m\u001b[1;33m.\u001b[0m\u001b[0miapws95_Tsat\u001b[0m\u001b[1;33m(\u001b[0m\u001b[0mdata\u001b[0m\u001b[1;33m[\u001b[0m\u001b[1;34m'pres_bara'\u001b[0m\u001b[1;33m]\u001b[0m \u001b[1;33m*\u001b[0m \u001b[1;36m1.e5\u001b[0m\u001b[1;33m)\u001b[0m\u001b[1;33m)\u001b[0m \u001b[1;33m-\u001b[0m \u001b[1;36m273.15\u001b[0m\u001b[1;33m\u001b[0m\u001b[1;33m\u001b[0m\u001b[0m\n\u001b[0m",
      "\u001b[1;32mc:\\Users\\Irene\\anaconda3\\lib\\site-packages\\chemicals\\iapws.py\u001b[0m in \u001b[0;36miapws95_Tsat\u001b[1;34m(P)\u001b[0m\n\u001b[0;32m   6259\u001b[0m     \u001b[1;36m400.0\u001b[0m\u001b[1;33m\u001b[0m\u001b[1;33m\u001b[0m\u001b[0m\n\u001b[0;32m   6260\u001b[0m     '''\n\u001b[1;32m-> 6261\u001b[1;33m     \u001b[1;32mif\u001b[0m \u001b[0mP\u001b[0m \u001b[1;33m>\u001b[0m \u001b[0miapws95_Pc\u001b[0m\u001b[1;33m:\u001b[0m\u001b[1;33m\u001b[0m\u001b[1;33m\u001b[0m\u001b[0m\n\u001b[0m\u001b[0;32m   6262\u001b[0m         \u001b[1;32mraise\u001b[0m \u001b[0mValueError\u001b[0m\u001b[1;33m(\u001b[0m\u001b[1;34m\"Pressure higher than critical pressure\"\u001b[0m\u001b[1;33m)\u001b[0m\u001b[1;33m\u001b[0m\u001b[1;33m\u001b[0m\u001b[0m\n\u001b[0;32m   6263\u001b[0m     \u001b[1;32melif\u001b[0m \u001b[0mP\u001b[0m \u001b[1;33m<\u001b[0m \u001b[1;36m22.849568234070716\u001b[0m\u001b[1;33m:\u001b[0m \u001b[1;31m# iapws95_Psat(235)\u001b[0m\u001b[1;33m\u001b[0m\u001b[1;33m\u001b[0m\u001b[0m\n",
      "\u001b[1;32mc:\\Users\\Irene\\anaconda3\\lib\\site-packages\\pandas\\core\\generic.py\u001b[0m in \u001b[0;36m__nonzero__\u001b[1;34m(self)\u001b[0m\n\u001b[0;32m   1525\u001b[0m     \u001b[1;33m@\u001b[0m\u001b[0mfinal\u001b[0m\u001b[1;33m\u001b[0m\u001b[1;33m\u001b[0m\u001b[0m\n\u001b[0;32m   1526\u001b[0m     \u001b[1;32mdef\u001b[0m \u001b[0m__nonzero__\u001b[0m\u001b[1;33m(\u001b[0m\u001b[0mself\u001b[0m\u001b[1;33m)\u001b[0m\u001b[1;33m:\u001b[0m\u001b[1;33m\u001b[0m\u001b[1;33m\u001b[0m\u001b[0m\n\u001b[1;32m-> 1527\u001b[1;33m         raise ValueError(\n\u001b[0m\u001b[0;32m   1528\u001b[0m             \u001b[1;34mf\"The truth value of a {type(self).__name__} is ambiguous. \"\u001b[0m\u001b[1;33m\u001b[0m\u001b[1;33m\u001b[0m\u001b[0m\n\u001b[0;32m   1529\u001b[0m             \u001b[1;34m\"Use a.empty, a.bool(), a.item(), a.any() or a.all().\"\u001b[0m\u001b[1;33m\u001b[0m\u001b[1;33m\u001b[0m\u001b[0m\n",
      "\u001b[1;31mValueError\u001b[0m: The truth value of a Series is ambiguous. Use a.empty, a.bool(), a.item(), a.any() or a.all()."
     ]
    }
   ],
   "source": [
    "# assuming pure water, calculate the BPD curve\n",
    "\n",
    "\n",
    "data['tsat_degC'] = iapws.iapws95_Tsat(data['pres_bara'] * 1.e5) - 273.15 "
   ]
  },
  {
   "cell_type": "code",
   "execution_count": null,
   "metadata": {},
   "outputs": [],
   "source": []
  }
 ],
 "metadata": {
  "kernelspec": {
   "display_name": "base",
   "language": "python",
   "name": "python3"
  },
  "language_info": {
   "codemirror_mode": {
    "name": "ipython",
    "version": 3
   },
   "file_extension": ".py",
   "mimetype": "text/x-python",
   "name": "python",
   "nbconvert_exporter": "python",
   "pygments_lexer": "ipython3",
   "version": "3.8.8"
  },
  "orig_nbformat": 4,
  "vscode": {
   "interpreter": {
    "hash": "c268d92783217d0a189fd0f6bc72a35770f06191246a63de0fd4bf64fa0bf04a"
   }
  }
 },
 "nbformat": 4,
 "nbformat_minor": 2
}
