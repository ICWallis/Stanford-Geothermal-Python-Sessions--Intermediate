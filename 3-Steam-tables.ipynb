{
 "cells": [
  {
   "attachments": {},
   "cell_type": "markdown",
   "metadata": {},
   "source": [
    "# Steam Tables\n",
    "\n",
    "Two packages:\n",
    "- IAPWS (license = GNU, which limits uses) https://pypi.org/project/iapws/\n",
    "- Chemicals (license = MIT, which is a more open license and therefore preferred) https://chemicals.readthedocs.io/\n",
    "\n",
    "The chemicals package uses SI units...  \n",
    "\n",
    "so pressure is in Pascals (Pa)\n",
    "- 1.e6 Pa = 1 Mega Pascal (MPa)\n",
    "- 1.e5 Pa = 1 bar\n",
    "\n",
    "and temperature is Kelvin\n",
    "- Degrees celsius = Kelvin - 273.15\n",
    "\n",
    "Ensure that pressure is absolute not gauge. \n",
    "\n",
    "Data used in this notebooks comes from https://github.com/ICWallis/T21-Tutorial-WellTestAnalysis"
   ]
  },
  {
   "cell_type": "code",
   "execution_count": null,
   "metadata": {},
   "outputs": [],
   "source": [
    "from chemicals import iapws\n",
    "import pandas as pd\n",
    "import matplotlib.pyplot as plt"
   ]
  },
  {
   "cell_type": "code",
   "execution_count": null,
   "metadata": {},
   "outputs": [],
   "source": [
    "# What is the saturation temperature for 30 bara?\n",
    "\n",
    "P_Pa = 30.e5\n",
    "Tsat_C = iapws.iapws95_Tsat(P_Pa) - 273.15 # convert from K to C\n",
    "print(round(Tsat_C,2))"
   ]
  },
  {
   "cell_type": "code",
   "execution_count": null,
   "metadata": {},
   "outputs": [],
   "source": [
    "# What is the saturation pressure for 100 degC?\n",
    "\n",
    "Temp_C = 100\n",
    "T_K = Temp_C + 273.15 # convert from C to K\n",
    "Psat_bar = iapws.iapws95_Psat(T_K) / 1.e5 # convert from Pa to bar\n",
    "\n",
    "print(round(Psat_bar,2))"
   ]
  },
  {
   "cell_type": "code",
   "execution_count": null,
   "metadata": {},
   "outputs": [],
   "source": [
    "# For a given temperature - pressure pair, calculate fluid properties enthalpy and density\n",
    "\n",
    "T_K = 233.85 + 273.15\n",
    "P_Pa = 30.e5\n",
    "\n",
    "properties = iapws.iapws95_properties(T=T_K, P=P_Pa)\n",
    "\n",
    "print(properties)\n",
    "\n",
    "H_kJpkg = properties[3] * 1.e-3 # convert J/kg to kJ/kg\n",
    "density = properties[0] # kg/m3\n",
    "\n",
    "print(round(H_kJpkg,2), round(density,2))"
   ]
  },
  {
   "attachments": {},
   "cell_type": "markdown",
   "metadata": {},
   "source": [
    "The fluid properties function returns a tuple and the method above slices out the values we want. \n",
    "\n",
    "Refer to the docs for the tuple definition: \n",
    "https://chemicals.readthedocs.io/chemicals.iapws.html#iapws-95-properties"
   ]
  },
  {
   "attachments": {},
   "cell_type": "markdown",
   "metadata": {},
   "source": [
    "## Calculate the BPD for a static temperature profile"
   ]
  },
  {
   "cell_type": "code",
   "execution_count": null,
   "metadata": {},
   "outputs": [],
   "source": [
    "data = pd.read_csv('3-Static-PT.csv')"
   ]
  },
  {
   "cell_type": "code",
   "execution_count": null,
   "metadata": {},
   "outputs": [],
   "source": [
    "data.info()"
   ]
  },
  {
   "cell_type": "code",
   "execution_count": null,
   "metadata": {},
   "outputs": [],
   "source": []
  },
  {
   "cell_type": "code",
   "execution_count": null,
   "metadata": {},
   "outputs": [],
   "source": [
    "data['pres_Pa'] = (data.pres_barg + 1) * 1.e5"
   ]
  },
  {
   "cell_type": "code",
   "execution_count": null,
   "metadata": {},
   "outputs": [],
   "source": [
    "data.head()"
   ]
  },
  {
   "cell_type": "code",
   "execution_count": null,
   "metadata": {},
   "outputs": [],
   "source": [
    "# assuming pure water, calculate the BPD curve\n",
    "\n",
    "well_Tsat_C = []\n",
    "\n",
    "for val in data.pres_Pa.values:\n",
    "    Tsat_C = iapws.iapws95_Tsat(val) - 273.15\n",
    "    well_Tsat_C.append(Tsat_C)\n",
    "\n",
    "data['Tsat_degC'] = well_Tsat_C"
   ]
  },
  {
   "cell_type": "code",
   "execution_count": null,
   "metadata": {},
   "outputs": [],
   "source": [
    "data.columns"
   ]
  },
  {
   "cell_type": "code",
   "execution_count": null,
   "metadata": {},
   "outputs": [],
   "source": [
    "fig, ax = plt.subplots(1,1,figsize = (4,4))\n",
    "\n",
    "ax.plot(\n",
    "    data.temp_degC.values,\n",
    "    data.depth_m.values,\n",
    "    label = 'Measured temp'\n",
    ")\n",
    "\n",
    "ax.plot(\n",
    "    data.Tsat_degC.values,\n",
    "    data.depth_m.values,\n",
    "    label = 'Saturation temp'\n",
    ")\n",
    "\n",
    "ax.set_ylim(1000,0)\n",
    "ax.set_ylabel('Depth [m]')\n",
    "ax.set_xlabel('Temp [$^\\circ$C]') # Latex used to format unit\n",
    "ax.legend()"
   ]
  },
  {
   "attachments": {},
   "cell_type": "markdown",
   "metadata": {},
   "source": [
    "## What if it's not pure water?\n",
    "\n",
    "Work in progress, contributors welcome...\n",
    "\n",
    "https://github.com/Geothermal-Fluids/bpd_curve"
   ]
  },
  {
   "cell_type": "markdown",
   "metadata": {},
   "source": []
  }
 ],
 "metadata": {
  "kernelspec": {
   "display_name": "sgw_env_int",
   "language": "python",
   "name": "python3"
  },
  "language_info": {
   "codemirror_mode": {
    "name": "ipython",
    "version": 3
   },
   "file_extension": ".py",
   "mimetype": "text/x-python",
   "name": "python",
   "nbconvert_exporter": "python",
   "pygments_lexer": "ipython3",
   "version": "3.9.15 | packaged by conda-forge | (main, Nov 22 2022, 08:41:22) [MSC v.1929 64 bit (AMD64)]"
  },
  "orig_nbformat": 4,
  "vscode": {
   "interpreter": {
    "hash": "28e95de71bbcf09c1444ff7d54651fdf8c668d7cd239aea4b3daa2d866405411"
   }
  }
 },
 "nbformat": 4,
 "nbformat_minor": 2
}
