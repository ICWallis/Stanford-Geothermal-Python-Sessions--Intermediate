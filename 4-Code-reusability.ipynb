{
 "cells": [
  {
   "attachments": {},
   "cell_type": "markdown",
   "metadata": {},
   "source": [
    "# Code reusability\n",
    "\n",
    "Some fuzzy jargon:\n",
    "- **Scripts:** Python files that contain commands in logical order, is run directly and does something (i.e., has an output). Scripts may include functions, but those functions are called within the script.\n",
    "- **Modules:** Files containing classes, functions, and variables that are designed to be imported by scripts or other modules (e.g., the Utilities.py file)\n",
    "- **Packages:** A collection of related modules. Can be either local or called from the Python Package Index (PyPI, pip install x). Has an \"__init__\" file.\n",
    "- **Libraries:** A bundle of packages, such as the python standard library.\n"
   ]
  },
  {
   "cell_type": "code",
   "execution_count": null,
   "metadata": {},
   "outputs": [],
   "source": []
  }
 ],
 "metadata": {
  "language_info": {
   "name": "python"
  },
  "orig_nbformat": 4
 },
 "nbformat": 4,
 "nbformat_minor": 2
}
